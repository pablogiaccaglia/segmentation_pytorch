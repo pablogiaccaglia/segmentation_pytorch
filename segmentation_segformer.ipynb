{
  "cells": [
    {
      "cell_type": "code",
      "source": [
        "%rm -r segmentation_pytorch/\n",
        "!git clone https://github.com/pablogiaccaglia/segmentation_pytorch\n",
        "!pip install git+https://github.com/pablogiaccaglia/segmentation_pytorch\n",
        "%cd /content/segmentation_pytorch/"
      ],
      "metadata": {
        "colab": {
          "base_uri": "https://localhost:8080/"
        },
        "id": "Pe6gTSPU6d3x",
        "outputId": "1dba46c8-0838-4918-c38a-c16a9e375097"
      },
      "id": "Pe6gTSPU6d3x",
      "execution_count": 1,
      "outputs": [
        {
          "output_type": "stream",
          "name": "stdout",
          "text": [
            "Cloning into 'segmentation_pytorch'...\n",
            "remote: Enumerating objects: 481, done.\u001b[K\n",
            "remote: Counting objects: 100% (145/145), done.\u001b[K\n",
            "remote: Compressing objects: 100% (91/91), done.\u001b[K\n",
            "remote: Total 481 (delta 101), reused 92 (delta 54), pack-reused 336\u001b[K\n",
            "Receiving objects: 100% (481/481), 144.06 MiB | 24.46 MiB/s, done.\n",
            "Resolving deltas: 100% (308/308), done.\n",
            "Looking in indexes: https://pypi.org/simple, https://us-python.pkg.dev/colab-wheels/public/simple/\n",
            "Collecting git+https://github.com/pablogiaccaglia/segmentation_pytorch\n",
            "  Cloning https://github.com/pablogiaccaglia/segmentation_pytorch to /tmp/pip-req-build-4t0ngb2w\n",
            "  Running command git clone --filter=blob:none --quiet https://github.com/pablogiaccaglia/segmentation_pytorch /tmp/pip-req-build-4t0ngb2w\n",
            "  Resolved https://github.com/pablogiaccaglia/segmentation_pytorch to commit e6ce50ec8441910d55b31c3ea6fe81ec5076f7c0\n",
            "\u001b[31mERROR: git+https://github.com/pablogiaccaglia/segmentation_pytorch does not appear to be a Python project: neither 'setup.py' nor 'pyproject.toml' found.\u001b[0m\u001b[31m\n",
            "\u001b[0m/content/segmentation_pytorch\n"
          ]
        }
      ]
    },
    {
      "cell_type": "code",
      "source": [
        "#@title **Google Drive connection**\n",
        "from google.colab import drive\n",
        "drive.mount('/content/drive')"
      ],
      "metadata": {
        "id": "7tCW-rqND51V",
        "outputId": "8b7c5f83-3d04-4044-fac9-fdc84f34cc0b",
        "colab": {
          "base_uri": "https://localhost:8080/"
        }
      },
      "id": "7tCW-rqND51V",
      "execution_count": 2,
      "outputs": [
        {
          "output_type": "stream",
          "name": "stdout",
          "text": [
            "Drive already mounted at /content/drive; to attempt to forcibly remount, call drive.mount(\"/content/drive\", force_remount=True).\n"
          ]
        }
      ]
    },
    {
      "cell_type": "code",
      "source": [],
      "metadata": {
        "id": "6KKvrYiDjzyp"
      },
      "id": "6KKvrYiDjzyp",
      "execution_count": 2,
      "outputs": []
    },
    {
      "cell_type": "code",
      "execution_count": 3,
      "id": "57ef2ace",
      "metadata": {
        "id": "57ef2ace",
        "outputId": "6c89769b-8ba9-48c9-e726-f0e9718d3982",
        "colab": {
          "base_uri": "https://localhost:8080/"
        }
      },
      "outputs": [
        {
          "output_type": "stream",
          "name": "stdout",
          "text": [
            "Looking in indexes: https://pypi.org/simple, https://us-python.pkg.dev/colab-wheels/public/simple/\n",
            "Requirement already satisfied: einops in /usr/local/lib/python3.8/dist-packages (0.6.0)\n",
            "Looking in indexes: https://pypi.org/simple, https://us-python.pkg.dev/colab-wheels/public/simple/\n",
            "Requirement already satisfied: tensorflow_addons in /usr/local/lib/python3.8/dist-packages (0.19.0)\n",
            "Requirement already satisfied: typeguard>=2.7 in /usr/local/lib/python3.8/dist-packages (from tensorflow_addons) (2.7.1)\n",
            "Requirement already satisfied: packaging in /usr/local/lib/python3.8/dist-packages (from tensorflow_addons) (21.3)\n",
            "Requirement already satisfied: pyparsing!=3.0.5,>=2.0.2 in /usr/local/lib/python3.8/dist-packages (from packaging->tensorflow_addons) (3.0.9)\n",
            "Looking in indexes: https://pypi.org/simple, https://us-python.pkg.dev/colab-wheels/public/simple/\n",
            "Requirement already satisfied: timm in /usr/local/lib/python3.8/dist-packages (0.6.12)\n",
            "Requirement already satisfied: torch>=1.7 in /usr/local/lib/python3.8/dist-packages (from timm) (1.13.0+cu116)\n",
            "Requirement already satisfied: torchvision in /usr/local/lib/python3.8/dist-packages (from timm) (0.14.0+cu116)\n",
            "Requirement already satisfied: pyyaml in /usr/local/lib/python3.8/dist-packages (from timm) (6.0)\n",
            "Requirement already satisfied: huggingface-hub in /usr/local/lib/python3.8/dist-packages (from timm) (0.11.1)\n",
            "Requirement already satisfied: typing-extensions in /usr/local/lib/python3.8/dist-packages (from torch>=1.7->timm) (4.4.0)\n",
            "Requirement already satisfied: filelock in /usr/local/lib/python3.8/dist-packages (from huggingface-hub->timm) (3.9.0)\n",
            "Requirement already satisfied: packaging>=20.9 in /usr/local/lib/python3.8/dist-packages (from huggingface-hub->timm) (21.3)\n",
            "Requirement already satisfied: tqdm in /usr/local/lib/python3.8/dist-packages (from huggingface-hub->timm) (4.64.1)\n",
            "Requirement already satisfied: requests in /usr/local/lib/python3.8/dist-packages (from huggingface-hub->timm) (2.25.1)\n",
            "Requirement already satisfied: pillow!=8.3.*,>=5.3.0 in /usr/local/lib/python3.8/dist-packages (from torchvision->timm) (7.1.2)\n",
            "Requirement already satisfied: numpy in /usr/local/lib/python3.8/dist-packages (from torchvision->timm) (1.21.6)\n",
            "Requirement already satisfied: pyparsing!=3.0.5,>=2.0.2 in /usr/local/lib/python3.8/dist-packages (from packaging>=20.9->huggingface-hub->timm) (3.0.9)\n",
            "Requirement already satisfied: chardet<5,>=3.0.2 in /usr/local/lib/python3.8/dist-packages (from requests->huggingface-hub->timm) (4.0.0)\n",
            "Requirement already satisfied: certifi>=2017.4.17 in /usr/local/lib/python3.8/dist-packages (from requests->huggingface-hub->timm) (2022.12.7)\n",
            "Requirement already satisfied: idna<3,>=2.5 in /usr/local/lib/python3.8/dist-packages (from requests->huggingface-hub->timm) (2.10)\n",
            "Requirement already satisfied: urllib3<1.27,>=1.21.1 in /usr/local/lib/python3.8/dist-packages (from requests->huggingface-hub->timm) (1.24.3)\n",
            "Looking in indexes: https://pypi.org/simple, https://us-python.pkg.dev/colab-wheels/public/simple/\n",
            "Requirement already satisfied: mmcv in /usr/local/lib/python3.8/dist-packages (1.7.1)\n",
            "Requirement already satisfied: yapf in /usr/local/lib/python3.8/dist-packages (from mmcv) (0.32.0)\n",
            "Requirement already satisfied: numpy in /usr/local/lib/python3.8/dist-packages (from mmcv) (1.21.6)\n",
            "Requirement already satisfied: Pillow in /usr/local/lib/python3.8/dist-packages (from mmcv) (7.1.2)\n",
            "Requirement already satisfied: packaging in /usr/local/lib/python3.8/dist-packages (from mmcv) (21.3)\n",
            "Requirement already satisfied: pyyaml in /usr/local/lib/python3.8/dist-packages (from mmcv) (6.0)\n",
            "Requirement already satisfied: addict in /usr/local/lib/python3.8/dist-packages (from mmcv) (2.4.0)\n",
            "Requirement already satisfied: pyparsing!=3.0.5,>=2.0.2 in /usr/local/lib/python3.8/dist-packages (from packaging->mmcv) (3.0.9)\n",
            "Looking in indexes: https://pypi.org/simple, https://us-python.pkg.dev/colab-wheels/public/simple/\n",
            "Requirement already satisfied: tensorboardX in /usr/local/lib/python3.8/dist-packages (2.5.1)\n",
            "Requirement already satisfied: numpy in /usr/local/lib/python3.8/dist-packages (from tensorboardX) (1.21.6)\n",
            "Requirement already satisfied: protobuf<=3.20.1,>=3.8.0 in /usr/local/lib/python3.8/dist-packages (from tensorboardX) (3.19.6)\n",
            "Looking in indexes: https://pypi.org/simple, https://us-python.pkg.dev/colab-wheels/public/simple/\n",
            "Requirement already satisfied: torchviz in /usr/local/lib/python3.8/dist-packages (0.0.2)\n",
            "Requirement already satisfied: torch in /usr/local/lib/python3.8/dist-packages (from torchviz) (1.13.0+cu116)\n",
            "Requirement already satisfied: graphviz in /usr/local/lib/python3.8/dist-packages (from torchviz) (0.10.1)\n",
            "Requirement already satisfied: typing-extensions in /usr/local/lib/python3.8/dist-packages (from torch->torchviz) (4.4.0)\n",
            "Looking in indexes: https://pypi.org/simple, https://us-python.pkg.dev/colab-wheels/public/simple/\n",
            "Requirement already satisfied: yacs in /usr/local/lib/python3.8/dist-packages (0.1.8)\n",
            "Requirement already satisfied: PyYAML in /usr/local/lib/python3.8/dist-packages (from yacs) (6.0)\n",
            "Looking in indexes: https://pypi.org/simple, https://us-python.pkg.dev/colab-wheels/public/simple/\n",
            "Requirement already satisfied: kornia in /usr/local/lib/python3.8/dist-packages (0.6.9)\n",
            "Requirement already satisfied: packaging in /usr/local/lib/python3.8/dist-packages (from kornia) (21.3)\n",
            "Requirement already satisfied: torch>=1.9.1 in /usr/local/lib/python3.8/dist-packages (from kornia) (1.13.0+cu116)\n",
            "Requirement already satisfied: typing-extensions in /usr/local/lib/python3.8/dist-packages (from torch>=1.9.1->kornia) (4.4.0)\n",
            "Requirement already satisfied: pyparsing!=3.0.5,>=2.0.2 in /usr/local/lib/python3.8/dist-packages (from packaging->kornia) (3.0.9)\n",
            "Looking in indexes: https://pypi.org/simple, https://us-python.pkg.dev/colab-wheels/public/simple/\n",
            "Requirement already satisfied: munch in /usr/local/lib/python3.8/dist-packages (2.5.0)\n",
            "Requirement already satisfied: six in /usr/local/lib/python3.8/dist-packages (from munch) (1.15.0)\n"
          ]
        },
        {
          "output_type": "stream",
          "name": "stderr",
          "text": [
            "/usr/local/lib/python3.8/dist-packages/mmcv/__init__.py:20: UserWarning: On January 1, 2023, MMCV will release v2.0.0, in which it will remove components related to the training process and add a data transformation module. In addition, it will rename the package names mmcv to mmcv-lite and mmcv-full to mmcv. See https://github.com/open-mmlab/mmcv/blob/master/docs/en/compatibility.md for more details.\n",
            "  warnings.warn(\n"
          ]
        }
      ],
      "source": [
        "import os\n",
        "os.environ['CUDA_LAUNCH_BLOCKING'] = \"1\"\n",
        "import sys\n",
        "import cv2\n",
        "import time\n",
        "import timeit\n",
        "import random\n",
        "import pathlib\n",
        "import logging\n",
        "import numpy as np\n",
        "import albumentations\n",
        "from tqdm import tqdm\n",
        "from functools import partial\n",
        "from typing import Tuple, List\n",
        "import sys\n",
        "!{sys.executable} -m pip install einops\n",
        "!{sys.executable} -m pip install tensorflow_addons\n",
        "!{sys.executable} -m pip install timm\n",
        "!{sys.executable} -m pip install mmcv\n",
        "!{sys.executable} -m pip install tensorboardX\n",
        "!{sys.executable} -m pip install torchviz\n",
        "!{sys.executable} -m pip install yacs\n",
        "!{sys.executable} -m pip install kornia\n",
        "!{sys.executable} -m pip install munch\n",
        "import torch\n",
        "from torch import nn\n",
        "import torch.nn.functional as F\n",
        "from torch.utils.data import DataLoader, TensorDataset\n",
        "from mmcv.runner import build_optimizer\n",
        "from tensorboardX import SummaryWriter\n",
        "import matplotlib.pyplot as plt\n",
        "from torchviz import make_dot\n",
        "from models.segformer import Segformer\n",
        "\n",
        "#%config InlineBackend.figure_format = 'retina'\n",
        "plt.style.use('ggplot')\n",
        "plt.rc('xtick',labelsize=16)\n",
        "plt.rc('ytick',labelsize=16)\n",
        "\n",
        "from utils.label_utils import get_labels\n",
        "from utils.lr_schedule import PolyLrUpdater\n",
        "from utils.modelsummary import get_model_summary\n",
        "from utils.runners import train, validate, testval\n",
        "from utils.data_utils import label_mapping, SegmentationDataset, display, cityscapes_label_to_rgb\n",
        "from utils.train_utils import AverageMeter, CrossEntropy, BinaryCrossEntropy, get_confusion_matrix, create_logger\n",
        "from utils.transformations import (ComposeDouble, FunctionWrapperDouble, normalize, re_normalize,\n",
        "                                   random_crop, random_resize, random_brightness, AlbuSeg2d, scale_aug)\n",
        "from utils.customlosses import FocalTverskyLoss, CalSSLoss\n",
        "\n",
        "from configs.segformer_config import config as cfg\n",
        "\n",
        "labels = get_labels()\n",
        "id2label =      { label.id      : label for label in labels }\n",
        "trainid2label = { label.trainId : label for label in labels }\n",
        "\n",
        "device = torch.device(\"cuda\") if torch.cuda.is_available() else torch.device(\"cpu\")"
      ]
    },
    {
      "cell_type": "code",
      "source": [
        "#@title **Data Loader**\n",
        "\n",
        "def loadNumpyArrays(folderPath: str, arr, max, channels_first = False) -> np.ndarray:\n",
        "    i = 0\n",
        "\n",
        "    entries = os.listdir(folderPath)\n",
        "    entries.sort()\n",
        "    #print(entries)\n",
        "    print(len(entries))\n",
        "    for entry in entries:\n",
        "\n",
        "      if i==len(arr):\n",
        "        break\n",
        "\n",
        "      if \".DS_Store\" not in str(entry) and \"(1).npy\" not in str(entry):\n",
        "\n",
        "        l = np.load(folderPath + entry)\n",
        "        #print(l.shape)\n",
        "\n",
        "        if \"IMG\" in folderPath:\n",
        "          # l = tf.keras.applications.vgg16.preprocess_input(l)\n",
        "          pass\n",
        "        else:\n",
        "          l = np.squeeze(l)\n",
        "        \n",
        "        arr[i] = l\n",
        "        i = i + 1\n",
        "        if i==max:\n",
        "          break\n",
        "\n",
        "    if channels_first:\n",
        "      try:\n",
        "        arr = np.transpose(arr, (0, 3, 1, 2))\n",
        "      except:\n",
        "         pass\n",
        "    \n",
        "    return arr\n",
        "\n",
        "def getDatasetArraysForNet() -> Tuple[np.ndarray, np.ndarray, np.ndarray, np.ndarray, np.ndarray, np.ndarray]:\n",
        "    trainingImgDir = \"/content/drive/MyDrive/Arrays-cbis-BIG/Dataset-split-arrays/Training-Final-IMG-Arrayss/\"\n",
        "    trainingMaskDir = \"/content/drive/MyDrive/Arrays-cbis-BIG/Dataset-split-arrays/Training-Final-MSK-Arrays/\"\n",
        "    validationImgDir = \"/content/drive/MyDrive/Arrays-cbis-BIG/Dataset-split-arrays/Validation-Final-IMG-Arrays/\"\n",
        "    validationMaskDir = \"/content/drive/MyDrive/Arrays-cbis-BIG/Dataset-split-arrays/Validation-Final-MSK-Arrays/\"\n",
        "    testingImgDir = \"/content/drive/MyDrive/Arrays-cbis-BIG/Dataset-split-arrays/Testing-Final-IMG-Arrays/\"\n",
        "    testingMaskDir = \"/content/drive/MyDrive/Arrays-cbis-BIG/Dataset-split-arrays/Testing-Final-MSK-Arrays/\"\n",
        "\n",
        "    h = w = 256\n",
        "    batch11 = 7740\n",
        "    batch12 = 1550\n",
        "    batch2  = 1000\n",
        "    channels_first = True\n",
        "\n",
        "    dim1 = (batch11, h, w)\n",
        "    dim2 = (batch11, h, w)\n",
        "    dim3 = (batch12, h, w)\n",
        "    dim4 = (batch12, h, w)\n",
        "    dim5 = (batch2, h, w)\n",
        "    dim6 = (batch2, h, w)\n",
        "\n",
        "\n",
        "    return loadNumpyArrays(folderPath = trainingImgDir, arr = np.ndarray(dim1, dtype = 'float32'), max = 7749, channels_first = channels_first), \\\n",
        "           loadNumpyArrays(folderPath = trainingMaskDir, arr = np.ndarray(dim2, dtype = 'uint8'), max = 7749, channels_first = channels_first), \\\n",
        "           loadNumpyArrays(folderPath = validationImgDir, arr = np.ndarray(dim3, dtype = 'float32'), max = 1551, channels_first = channels_first), \\\n",
        "           loadNumpyArrays( folderPath = validationMaskDir, arr = np.ndarray(dim4, dtype = 'uint8'), max = 1551, channels_first = channels_first), \\\n",
        "           loadNumpyArrays(folderPath = testingImgDir, arr = np.ndarray(dim5, dtype = 'float32'), max = 1000), \\\n",
        "           loadNumpyArrays(folderPath = testingMaskDir, arr = np.ndarray(dim6, dtype = 'uint8'), max = 1000, channels_first = channels_first)"
      ],
      "metadata": {
        "id": "m0GEFGJN_lSK"
      },
      "id": "m0GEFGJN_lSK",
      "execution_count": 4,
      "outputs": []
    },
    {
      "cell_type": "code",
      "execution_count": 5,
      "id": "b64ce1a4",
      "metadata": {
        "colab": {
          "base_uri": "https://localhost:8080/"
        },
        "id": "b64ce1a4",
        "outputId": "b1dc1baa-0c84-4c74-b0e4-ce8c4e9f397d"
      },
      "outputs": [
        {
          "output_type": "stream",
          "name": "stdout",
          "text": [
            "7749\n",
            "7749\n",
            "1551\n",
            "1551\n",
            "1035\n",
            "1035\n",
            "x.shape: (4, 256, 256), x.type: torch.float32, [min(x), max(x)]: [-1.639, 2.046]\n",
            "y.shape: (4, 256, 256), y.type: torch.float32 \n",
            "y unique: [0.0, 1.0]\n"
          ]
        }
      ],
      "source": [
        "imgs_train, imgs_mask_train, imgs_val, imgs_mask_val, imgs_test, imgs_mask_test_gt = getDatasetArraysForNet()\n",
        "\n",
        "mean = 0.44531356896770125\n",
        "std = 0.2692461874154524\n",
        "\n",
        "imgs_train = imgs_train / 255.\n",
        "imgs_val = imgs_val / 255.\n",
        "imgs_test = imgs_test / 255.\n",
        "\n",
        "\n",
        "imgs_train = (imgs_train - mean) / std\n",
        "imgs_val = (imgs_val-mean) / std\n",
        "imgs_test = (imgs_test-mean) / std\n",
        "\n",
        "def getTensorDataset(x, y):\n",
        "  return TensorDataset(torch.Tensor(x), torch.Tensor(y))\n",
        "\n",
        "train_dataloader = DataLoader(\n",
        "    dataset = getTensorDataset(imgs_train, imgs_mask_train), \n",
        "    batch_size = 4, \n",
        "    shuffle = True,\n",
        "    drop_last = True, # WHY DROPPING THE LAST BATCH IF NOT BATCH_SIZE COMPATIBLE?\n",
        "    num_workers = 4, # HOW MANY SUB-PROCESSES USE FOR DATA LOADING\n",
        "    prefetch_factor = 8, \n",
        "    pin_memory=True # the data loader will copy Tensors into device/CUDA pinned memory before returning them\n",
        "    \n",
        ")\n",
        "valid_dataloader = DataLoader(\n",
        "    dataset =getTensorDataset(imgs_val, imgs_mask_val), \n",
        "    batch_size = 4, \n",
        "    shuffle = True,\n",
        "    drop_last = True,\n",
        "    num_workers = 4,\n",
        "    prefetch_factor = 8,\n",
        "    pin_memory=True\n",
        "    \n",
        ")\n",
        "\n",
        "x, y = next(iter(train_dataloader)) # first training sample\n",
        "xv, yv = next(iter(valid_dataloader)) # first validation sample\n",
        "\n",
        "\n",
        "\n",
        "x_min, x_max = x.min(), x.max()\n",
        "print('x.shape: {}, x.type: {}, [min(x), max(x)]: [{:.3f}, {:.3f}]'.format(x.numpy().shape, x.dtype, x_min, x_max))\n",
        "print('y.shape: {}, y.type: {} \\ny unique: {}'.format(y.numpy().shape, y.dtype, np.unique(y.numpy()).tolist()))"
      ]
    },
    {
      "cell_type": "code",
      "source": [
        "print(xv.shape)"
      ],
      "metadata": {
        "id": "vwC-8uNOF1i0",
        "colab": {
          "base_uri": "https://localhost:8080/"
        },
        "outputId": "fd0960be-a054-4d3b-d05d-ba4fa5919c1e"
      },
      "id": "vwC-8uNOF1i0",
      "execution_count": 6,
      "outputs": [
        {
          "output_type": "stream",
          "name": "stdout",
          "text": [
            "torch.Size([4, 256, 256])\n"
          ]
        }
      ]
    },
    {
      "cell_type": "code",
      "execution_count": 7,
      "id": "9b689971",
      "metadata": {
        "id": "9b689971"
      },
      "outputs": [],
      "source": [
        "def mammograms_label_to_rgb(mask):\n",
        "    h = mask.shape[0]\n",
        "    w = mask.shape[1]\n",
        "    print(mask.shape)\n",
        "    mask_rgb = np.zeros((h, w, 3), dtype=np.uint8)\n",
        "    for key, val in trainid2label.items():\n",
        "        indices = mask == key\n",
        "        mask_rgb[indices.squeeze()] = val.color \n",
        "    return mask_rgb\n",
        "\n",
        "\n",
        "def display_blend(display_list):\n",
        "    plt.figure(figsize=(10, 10), dpi=200)\n",
        "    for i in range(len(display_list)):\n",
        "        blend = cv2.addWeighted(display_list[i][0], 0.8, display_list[i][1], 0.6, 0)\n",
        "        plt.subplot(1, len(display_list), i+1)\n",
        "        plt.imshow(blend)\n",
        "        plt.axis('off')\n",
        "    plt.tight_layout()\n",
        "    plt.show()\n"
      ]
    },
    {
      "cell_type": "code",
      "source": [
        "print(labels)"
      ],
      "metadata": {
        "id": "uwpi8wLcPlih",
        "colab": {
          "base_uri": "https://localhost:8080/"
        },
        "outputId": "2c3c4b6f-4cb9-4384-a032-9fdc12542649"
      },
      "id": "uwpi8wLcPlih",
      "execution_count": 8,
      "outputs": [
        {
          "output_type": "stream",
          "name": "stdout",
          "text": [
            "[Label(name='cancer', id=0, trainId=1, category='human', categoryId=6, hasInstances=True, ignoreInEval=False, color=(220, 20, 60)), Label(name='ground', id=1, trainId=0, category='human', categoryId=7, hasInstances=True, ignoreInEval=False, color=(0, 0, 0))]\n"
          ]
        }
      ]
    },
    {
      "cell_type": "code",
      "source": [
        "xv, yv = next(iter(valid_dataloader)) # first validation sample\n",
        "xv = torch.stack([xv,xv,xv], 1)\n",
        "\n",
        "print(xv.shape)"
      ],
      "metadata": {
        "id": "GxHTka4SGWx6",
        "colab": {
          "base_uri": "https://localhost:8080/"
        },
        "outputId": "cb330854-0083-4102-c46b-3a437004c17f"
      },
      "id": "GxHTka4SGWx6",
      "execution_count": 9,
      "outputs": [
        {
          "output_type": "stream",
          "name": "stdout",
          "text": [
            "torch.Size([4, 3, 256, 256])\n"
          ]
        }
      ]
    },
    {
      "cell_type": "code",
      "source": [
        "for i, batch in enumerate(valid_dataloader):\n",
        "  x, y = batch\n",
        "\n",
        "  x = torch.stack([x,x,x], 1)\n",
        "  display_blend([\n",
        "    [re_normalize(x[0].permute(1,2,0).numpy()), mammograms_label_to_rgb(y[0])],\n",
        "    [re_normalize(x[0].permute(1,2,0).numpy()), mammograms_label_to_rgb(y[0])]\n",
        "  ])\n",
        "\n",
        "  break"
      ],
      "metadata": {
        "id": "9feH7DBAYCMh",
        "colab": {
          "base_uri": "https://localhost:8080/",
          "height": 755
        },
        "outputId": "63c6349a-5776-4700-8b35-624d02fc6c33"
      },
      "id": "9feH7DBAYCMh",
      "execution_count": 10,
      "outputs": [
        {
          "output_type": "stream",
          "name": "stdout",
          "text": [
            "torch.Size([256, 256])\n",
            "torch.Size([256, 256])\n"
          ]
        },
        {
          "output_type": "display_data",
          "data": {
            "text/plain": [
              "<Figure size 2000x2000 with 2 Axes>"
            ],
            "image/png": "[encoded data removed]"
          },
          "metadata": {}
        }
      ]
    },
    {
      "cell_type": "code",
      "execution_count": 11,
      "id": "ba023148",
      "metadata": {
        "scrolled": false,
        "id": "ba023148",
        "colab": {
          "base_uri": "https://localhost:8080/",
          "height": 755
        },
        "outputId": "0b278c41-c1f7-4c8c-8ce3-1cbb4b4c89b2"
      },
      "outputs": [
        {
          "output_type": "stream",
          "name": "stdout",
          "text": [
            "torch.Size([256, 256])\n",
            "torch.Size([256, 256])\n"
          ]
        },
        {
          "output_type": "display_data",
          "data": {
            "text/plain": [
              "<Figure size 2000x2000 with 2 Axes>"
            ],
            "image/png": "[encoded data removed]"
          },
          "metadata": {}
        }
      ],
      "source": [
        "idx1 = 0\n",
        "idx2 = 1\n",
        "display_blend([\n",
        "    [re_normalize(xv[idx1].permute(1,2,0).numpy()), mammograms_label_to_rgb(yv[idx1])],\n",
        "    [re_normalize(xv[idx2].permute(1,2,0).numpy()), mammograms_label_to_rgb(yv[idx2])]\n",
        "])"
      ]
    },
    {
      "cell_type": "code",
      "execution_count": 12,
      "id": "526f5ea7",
      "metadata": {
        "id": "526f5ea7",
        "colab": {
          "base_uri": "https://localhost:8080/"
        },
        "outputId": "147f28f4-c47d-4ec1-be07-87ffa3371125"
      },
      "outputs": [
        {
          "output_type": "stream",
          "name": "stdout",
          "text": [
            "CHANNEL_DIMS: (32, 64, 160, 256)\n",
            "DECODER_DIM: 256\n",
            "DEPTHS: (2, 2, 2, 2)\n",
            "DROP_PATH_RATE: 0.1\n",
            "DROP_RATE: 0.0\n",
            "MLP_RATIOS: (4, 4, 4, 4)\n",
            "NUM_HEADS: (1, 2, 5, 8)\n",
            "PRETRAINED: weights/mit_b0.pth\n",
            "QKV_BIAS: True\n",
            "SR_RATIOS: (8, 4, 2, 1)\n"
          ]
        }
      ],
      "source": [
        "SEG_CFG = cfg.MODEL.B0\n",
        "cfg.NUM_CLASSES = 1\n",
        "print(SEG_CFG)"
      ]
    },
    {
      "cell_type": "code",
      "source": [
        "from models.segformer_shift import Segformer"
      ],
      "metadata": {
        "id": "QS0K-nVu5JVj"
      },
      "id": "QS0K-nVu5JVj",
      "execution_count": 13,
      "outputs": []
    },
    {
      "cell_type": "code",
      "source": [
        "import gc\n",
        "gc.collect()"
      ],
      "metadata": {
        "id": "o6CuJQajtsvW",
        "outputId": "2df72bfe-77d1-4389-b5d9-85bdb892d52d",
        "colab": {
          "base_uri": "https://localhost:8080/"
        }
      },
      "id": "o6CuJQajtsvW",
      "execution_count": 14,
      "outputs": [
        {
          "output_type": "execute_result",
          "data": {
            "text/plain": [
              "6354"
            ]
          },
          "metadata": {},
          "execution_count": 14
        }
      ]
    },
    {
      "cell_type": "code",
      "execution_count": 15,
      "id": "4fb611bd",
      "metadata": {
        "scrolled": true,
        "id": "4fb611bd",
        "colab": {
          "base_uri": "https://localhost:8080/"
        },
        "outputId": "2079ad5d-4851-4521-9eaf-f3e2b4dcf087"
      },
      "outputs": [
        {
          "output_type": "stream",
          "name": "stderr",
          "text": [
            "2023-01-13 15:33:54,584 - mmseg - INFO - load checkpoint from local path: /content/drive/MyDrive/pretrained_models/mit_b0.pth\n",
            "2023-01-13 15:33:54,620 - mmseg - WARNING - The model and loaded state dict do not match exactly\n",
            "\n",
            "size mismatch for patch_embed1.proj.weight: copying a param with shape torch.Size([32, 3, 7, 7]) from checkpoint, the shape in current model is torch.Size([32, 15, 7, 7]).\n",
            "size mismatch for patch_embed2.proj.weight: copying a param with shape torch.Size([64, 32, 3, 3]) from checkpoint, the shape in current model is torch.Size([64, 160, 3, 3]).\n",
            "size mismatch for patch_embed3.proj.weight: copying a param with shape torch.Size([160, 64, 3, 3]) from checkpoint, the shape in current model is torch.Size([160, 320, 3, 3]).\n",
            "size mismatch for patch_embed4.proj.weight: copying a param with shape torch.Size([256, 160, 3, 3]) from checkpoint, the shape in current model is torch.Size([256, 800, 3, 3]).\n",
            "unexpected key in source state_dict: head.weight, head.bias, block1.0.attn.sr.weight, block1.0.attn.sr.bias, block1.0.attn.norm.weight, block1.0.attn.norm.bias, block1.1.attn.sr.weight, block1.1.attn.sr.bias, block1.1.attn.norm.weight, block1.1.attn.norm.bias, block2.0.attn.sr.weight, block2.0.attn.sr.bias, block2.0.attn.norm.weight, block2.0.attn.norm.bias, block2.1.attn.sr.weight, block2.1.attn.sr.bias, block2.1.attn.norm.weight, block2.1.attn.norm.bias, block3.0.attn.sr.weight, block3.0.attn.sr.bias, block3.0.attn.norm.weight, block3.0.attn.norm.bias, block3.1.attn.sr.weight, block3.1.attn.sr.bias, block3.1.attn.norm.weight, block3.1.attn.norm.bias\n",
            "\n",
            "missing keys in source state_dict: patch_encoder1.position_embedding.weight, patch_encoder2.position_embedding.weight, patch_encoder3.position_embedding.weight, block1.0.attn.scale, block1.1.attn.scale, block2.0.attn.scale, block2.1.attn.scale, block3.0.attn.scale, block3.1.attn.scale, block4.0.attn.scale, block4.1.attn.scale, linear_c4.proj.weight, linear_c4.proj.bias, linear_c3.proj.weight, linear_c3.proj.bias, linear_c2.proj.weight, linear_c2.proj.bias, linear_c1.proj.weight, linear_c1.proj.bias, linear_fuse.weight, linear_fuse.bias, linear_pred.weight, linear_pred.bias, drloc1.layers.0.weight, drloc1.layers.0.bias, drloc1.layers.2.weight, drloc1.layers.2.bias, drloc1.layers.4.weight, drloc1.layers.4.bias, drloc2.layers.0.weight, drloc2.layers.0.bias, drloc2.layers.2.weight, drloc2.layers.2.bias, drloc2.layers.4.weight, drloc2.layers.4.bias, drloc3.layers.0.weight, drloc3.layers.0.bias, drloc3.layers.2.weight, drloc3.layers.2.bias, drloc3.layers.4.weight, drloc3.layers.4.bias, drloc4.layers.0.weight, drloc4.layers.0.bias, drloc4.layers.2.weight, drloc4.layers.2.bias, drloc4.layers.4.weight, drloc4.layers.4.bias\n",
            "\n"
          ]
        }
      ],
      "source": [
        "model = Segformer(\n",
        "    pretrained = \"/content/drive/MyDrive/pretrained_models/mit_b0.pth\", # CHECK THIS TO LOAD PRETRAINED MODEL\n",
        "    img_size = 256,\n",
        "                  patch_size = cfg.MODEL.PATCH_SIZE, embed_dims = SEG_CFG.CHANNEL_DIMS, num_heads = SEG_CFG.NUM_HEADS,\n",
        "                  mlp_ratios = SEG_CFG.MLP_RATIOS, qkv_bias = SEG_CFG.QKV_BIAS, depths = SEG_CFG.DEPTHS,\n",
        "                  sr_ratios = SEG_CFG.SR_RATIOS, drop_rate = SEG_CFG.DROP_RATE, drop_path_rate = SEG_CFG.DROP_PATH_RATE,\n",
        "                  decoder_dim = SEG_CFG.DECODER_DIM, norm_layer = partial(nn.LayerNorm, eps = 1e-6),\n",
        "                  overlap_patch_embed = True,\n",
        "                  masked_attention = False,\n",
        "                  use_drloc = True,\n",
        "                  drloc_mode = 'l1',\n",
        "                  sample_size = 384\n",
        "                  ).to(device)"
      ]
    },
    {
      "cell_type": "code",
      "source": [
        "# PyTorch\n",
        "from munch import Munch\n",
        "\n",
        "import torch\n",
        "import torch.nn as nn\n",
        "import torch.nn.functional as F\n",
        "\n",
        "class CalSSLoss():\n",
        "    def __init__(self, drloc_mode = 'l1'):\n",
        "\n",
        "        self.drloc_mode = drloc_mode\n",
        "        if drloc_mode == \"l1\":  # l1 regression constraint\n",
        "            self.reld_criterion = self.relative_constraint_l1\n",
        "        elif drloc_mode == \"ce\":  # cross entropy constraint\n",
        "            self.reld_criterion = self.relative_constraint_ce\n",
        "        elif drloc_mode == \"cbr\":  # cycle-back regression constaint: https://arxiv.org/pdf/1904.07846.pdf\n",
        "            self.reld_criterion = self.relative_constraint_cbr\n",
        "        else:\n",
        "            raise NotImplementedError(\"We only support l1, ce and cbr now.\")\n",
        "    def relative_constraint_l1(self, deltaxy, predxy):\n",
        "        return F.l1_loss(deltaxy, predxy)\n",
        "\n",
        "    def relative_constraint_ce(self, deltaxy, predxy):\n",
        "        # predx, predy = torch.chunk(predxy, chunks=2, dim=1)\n",
        "        predx, predy = predxy[:, :, 0], predxy[:, :, 1]\n",
        "        targetx, targety = deltaxy[:, 0].long(), deltaxy[:, 1].long()\n",
        "        return F.cross_entropy(predx, targetx) + F.cross_entropy(predy, targety)\n",
        "\n",
        "    def variance_aware_regression(self, pred, beta, target, labels, lambda_var = 0.001):\n",
        "        # Variance aware regression.\n",
        "        pred_titled = pred.unsqueeze(0).t().repeat(1, labels.size(1))\n",
        "        EPSILON = 1e-8\n",
        "        pred_var = torch.sum((labels - pred_titled) ** 2 * beta, dim = 1) + EPSILON\n",
        "        pred_log_var = torch.log(pred_var)\n",
        "        squared_error = (pred - target) ** 2\n",
        "        return torch.mean(torch.exp(-pred_log_var) * squared_error + lambda_var * pred_log_var)\n",
        "\n",
        "    # based on the codes: https://github.com/google-research/google-research/blob/master/tcc/tcc/losses.py\n",
        "    def relative_constraint_cbr(self, deltaxy, predxy, loss_type = \"regression_mse_var\"):\n",
        "        predx, predy = predxy[:, :, 0], predxy[:, :, 1]\n",
        "        num_classes = predx.size(1)\n",
        "        targetx, targety = deltaxy[:, 0].long(), deltaxy[:, 1].long()  # [N, ], [N, ]\n",
        "        betax, betay = F.softmax(predx, dim = 1), F.softmax(predy, dim = 1)  # [N, C], [N, C]\n",
        "        labels = torch.arange(num_classes).unsqueeze(0).to(predxy.device)  # [1, C]\n",
        "        true_idx = targetx  # torch.sum(targetx*labels, dim=1)      # [N, ]\n",
        "        true_idy = targety  # torch.sum(targety*labels, dim=1)      # [N, ]\n",
        "\n",
        "        pred_idx = torch.sum(betax * labels, dim = 1)  # [N, ]\n",
        "        pred_idy = torch.sum(betay * labels, dim = 1)  # [N, ]\n",
        "\n",
        "        if loss_type in [\"regression_mse\", \"regression_mse_var\"]:\n",
        "            if \"var\" in loss_type:\n",
        "                # Variance aware regression.\n",
        "                lossx = self.variance_aware_regression(pred_idx, betax, true_idx, labels)\n",
        "                lossy = self.variance_aware_regression(pred_idy, betay, true_idy, labels)\n",
        "            else:\n",
        "                lossx = torch.mean((pred_idx - true_idx) ** 2)\n",
        "                lossy = torch.mean((pred_idy - true_idy) ** 2)\n",
        "            losss = lossx + lossy\n",
        "            return losss\n",
        "        else:\n",
        "            raise NotImplementedError(\"We only support regression_mse and regression_mse_var now.\")\n",
        "\n",
        "    def forward(self, outs, lambda_drloc = 0.0):\n",
        "        losss, all_losses = 0.0, Munch()\n",
        "        loss_drloc = 0.0\n",
        "\n",
        "\n",
        "        for deltaxy, drloc, plane_size in zip(outs.deltaxy1, outs.drloc1, outs.plz1):\n",
        "            loss_drloc += self.reld_criterion(deltaxy, drloc) * (lambda_drloc**8)\n",
        "\n",
        "        for deltaxy, drloc, plane_size in zip(outs.deltaxy2, outs.drloc2, outs.plz2):\n",
        "            loss_drloc += self.reld_criterion(deltaxy, drloc) * (lambda_drloc**4)\n",
        "\n",
        "        for deltaxy, drloc, plane_size in zip(outs.deltaxy3, outs.drloc3, outs.plz3):\n",
        "            loss_drloc += self.reld_criterion(deltaxy, drloc) * (lambda_drloc**2)\n",
        "\n",
        "        for deltaxy, drloc, plane_size in zip(outs.deltaxy4, outs.drloc4, outs.plz4):\n",
        "            loss_drloc += self.reld_criterion(deltaxy, drloc) * (lambda_drloc**1)\n",
        "\n",
        "        all_losses.drloc = loss_drloc.item()\n",
        "        losss += loss_drloc\n",
        "\n",
        "        return losss, all_losses\n"
      ],
      "metadata": {
        "id": "rzFa-vSasGw9"
      },
      "id": "rzFa-vSasGw9",
      "execution_count": 16,
      "outputs": []
    },
    {
      "cell_type": "code",
      "execution_count": 17,
      "id": "5443a1c9",
      "metadata": {
        "id": "5443a1c9"
      },
      "outputs": [],
      "source": [
        "#w = torch.FloatTensor([1,1])\n",
        "\n",
        "# binary classification loss function\n",
        "criterion = FocalTverskyLoss(\n",
        ").to(device)\n",
        "\n",
        "loss2 = CalSSLoss(drloc_mode = 'l1')\n",
        "\n",
        "# configuration for the model's optimizer\n",
        "optimizer_cfg = dict(\n",
        "    type='Adam', #AdamW\n",
        "    lr=1e-4)  #  0.00006)\n",
        "\n",
        "# build model optimizer\n",
        "optimizer = build_optimizer(model, optimizer_cfg)\n",
        "\n",
        "\n",
        "# A LearningRateSchedule that uses a polynomial decay schedule\n",
        "lr_scheduler = torch.optim.lr_scheduler.CyclicLR(optimizer, base_lr=1e-6, max_lr=1e-5, cycle_momentum=False)"
      ]
    },
    {
      "cell_type": "code",
      "source": [
        "x2 =  F.interpolate(x, size = 64, mode = 'bilinear', align_corners = False)"
      ],
      "metadata": {
        "id": "DvFn2KguyXYb"
      },
      "id": "DvFn2KguyXYb",
      "execution_count": 18,
      "outputs": []
    },
    {
      "cell_type": "code",
      "source": [
        "print(x2.shape)"
      ],
      "metadata": {
        "colab": {
          "base_uri": "https://localhost:8080/"
        },
        "id": "ziy6NlvpN0dY",
        "outputId": "521f8e8f-d816-4c7c-ee55-c5721f31a1cc"
      },
      "id": "ziy6NlvpN0dY",
      "execution_count": 19,
      "outputs": [
        {
          "output_type": "stream",
          "name": "stdout",
          "text": [
            "torch.Size([4, 3, 64, 64])\n"
          ]
        }
      ]
    },
    {
      "cell_type": "code",
      "source": [
        "x2 = torch.ones((1, 3, 256,256)).to(device)"
      ],
      "metadata": {
        "id": "DIG0eAa7SH19"
      },
      "id": "DIG0eAa7SH19",
      "execution_count": 20,
      "outputs": []
    },
    {
      "cell_type": "code",
      "source": [
        "details = get_model_summary(model, x2.cuda(), verbose=True)\n",
        "print(details)"
      ],
      "metadata": {
        "id": "DXIGscAjTQgn",
        "colab": {
          "base_uri": "https://localhost:8080/"
        },
        "outputId": "1bebc610-0362-4c17-d025-af1cd7b9cd73"
      },
      "id": "DXIGscAjTQgn",
      "execution_count": 21,
      "outputs": [
        {
          "output_type": "stream",
          "name": "stdout",
          "text": [
            "Model Summary\n",
            "Name                Input Size          Output Size         Parameters          Multiply Adds (Flops)\n",
            "----------------------------------------------------------------------------------------------------\n",
            "ShiftedConcatenator_1[1, 3, 256, 256]    [1, 15, 256, 256]   0                   Not Available       \n",
            "----------------------------------------------------------------------------------------------------\n",
            "Conv2d_1            [1, 15, 256, 256]   [1, 32, 64, 64]     23552               96337920            \n",
            "----------------------------------------------------------------------------------------------------\n",
            "LayerNorm_1         [1, 4096, 32]       [1, 4096, 32]       0                   Not Available       \n",
            "----------------------------------------------------------------------------------------------------\n",
            "OverlapPatchEmbedSPT_1[1, 3, 256, 256]    [1, 4096, 32]       0                   Not Available       \n",
            "----------------------------------------------------------------------------------------------------\n",
            "LayerNorm_2         [1, 4096, 32]       [1, 4096, 32]       0                   Not Available       \n",
            "----------------------------------------------------------------------------------------------------\n",
            "Linear_1            [1, 4096, 32]       [1, 4096, 32]       1056                536870912           \n",
            "----------------------------------------------------------------------------------------------------\n",
            "Linear_2            [1, 4096, 32]       [1, 4096, 64]       2112                1073741824          \n",
            "----------------------------------------------------------------------------------------------------\n",
            "Dropout_1           [1, 1, 4096, 4096]  [1, 1, 4096, 4096]  0                   Not Available       \n",
            "----------------------------------------------------------------------------------------------------\n",
            "Linear_3            [1, 4096, 32]       [1, 4096, 32]       1056                536870912           \n",
            "----------------------------------------------------------------------------------------------------\n",
            "Dropout_2           [1, 4096, 32]       [1, 4096, 32]       0                   Not Available       \n",
            "----------------------------------------------------------------------------------------------------\n",
            "Attention_1         [1, 4096, 32]       [1, 4096, 32]       0                   Not Available       \n",
            "----------------------------------------------------------------------------------------------------\n",
            "Identity_1          [1, 4096, 32]       [1, 4096, 32]       0                   Not Available       \n",
            "----------------------------------------------------------------------------------------------------\n",
            "LayerNorm_3         [1, 4096, 32]       [1, 4096, 32]       0                   Not Available       \n",
            "----------------------------------------------------------------------------------------------------\n",
            "Linear_4            [1, 4096, 32]       [1, 4096, 128]      4224                2147483648          \n",
            "----------------------------------------------------------------------------------------------------\n",
            "Conv2d_2            [1, 128, 64, 64]    [1, 128, 64, 64]    1280                4718592             \n",
            "----------------------------------------------------------------------------------------------------\n",
            "DWConv_1            [1, 4096, 128]      [1, 4096, 128]      1280                Not Available       \n",
            "----------------------------------------------------------------------------------------------------\n",
            "GELU_1              [1, 4096, 128]      [1, 4096, 128]      0                   Not Available       \n",
            "----------------------------------------------------------------------------------------------------\n",
            "Dropout_3           [1, 4096, 128]      [1, 4096, 128]      0                   Not Available       \n",
            "----------------------------------------------------------------------------------------------------\n",
            "Linear_5            [1, 4096, 128]      [1, 4096, 32]       4128                536870912           \n",
            "----------------------------------------------------------------------------------------------------\n",
            "Dropout_4           [1, 4096, 32]       [1, 4096, 32]       0                   Not Available       \n",
            "----------------------------------------------------------------------------------------------------\n",
            "Mlp_1               [1, 4096, 32]       [1, 4096, 32]       0                   Not Available       \n",
            "----------------------------------------------------------------------------------------------------\n",
            "Identity_2          [1, 4096, 32]       [1, 4096, 32]       0                   Not Available       \n",
            "----------------------------------------------------------------------------------------------------\n",
            "Block_1             [1, 4096, 32]       [1, 4096, 32]       0                   Not Available       \n",
            "----------------------------------------------------------------------------------------------------\n",
            "LayerNorm_4         [1, 4096, 32]       [1, 4096, 32]       0                   Not Available       \n",
            "----------------------------------------------------------------------------------------------------\n",
            "Linear_6            [1, 4096, 32]       [1, 4096, 32]       1056                536870912           \n",
            "----------------------------------------------------------------------------------------------------\n",
            "Linear_7            [1, 4096, 32]       [1, 4096, 64]       2112                1073741824          \n",
            "----------------------------------------------------------------------------------------------------\n",
            "Dropout_5           [1, 1, 4096, 4096]  [1, 1, 4096, 4096]  0                   Not Available       \n",
            "----------------------------------------------------------------------------------------------------\n",
            "Linear_8            [1, 4096, 32]       [1, 4096, 32]       1056                536870912           \n",
            "----------------------------------------------------------------------------------------------------\n",
            "Dropout_6           [1, 4096, 32]       [1, 4096, 32]       0                   Not Available       \n",
            "----------------------------------------------------------------------------------------------------\n",
            "Attention_2         [1, 4096, 32]       [1, 4096, 32]       0                   Not Available       \n",
            "----------------------------------------------------------------------------------------------------\n",
            "DropPath_1          [1, 4096, 32]       [1, 4096, 32]       0                   Not Available       \n",
            "----------------------------------------------------------------------------------------------------\n",
            "LayerNorm_5         [1, 4096, 32]       [1, 4096, 32]       0                   Not Available       \n",
            "----------------------------------------------------------------------------------------------------\n",
            "Linear_9            [1, 4096, 32]       [1, 4096, 128]      4224                2147483648          \n",
            "----------------------------------------------------------------------------------------------------\n",
            "Conv2d_3            [1, 128, 64, 64]    [1, 128, 64, 64]    1280                4718592             \n",
            "----------------------------------------------------------------------------------------------------\n",
            "DWConv_2            [1, 4096, 128]      [1, 4096, 128]      1280                Not Available       \n",
            "----------------------------------------------------------------------------------------------------\n",
            "GELU_2              [1, 4096, 128]      [1, 4096, 128]      0                   Not Available       \n",
            "----------------------------------------------------------------------------------------------------\n",
            "Dropout_7           [1, 4096, 128]      [1, 4096, 128]      0                   Not Available       \n",
            "----------------------------------------------------------------------------------------------------\n",
            "Linear_10           [1, 4096, 128]      [1, 4096, 32]       4128                536870912           \n",
            "----------------------------------------------------------------------------------------------------\n",
            "Dropout_8           [1, 4096, 32]       [1, 4096, 32]       0                   Not Available       \n",
            "----------------------------------------------------------------------------------------------------\n",
            "Mlp_2               [1, 4096, 32]       [1, 4096, 32]       0                   Not Available       \n",
            "----------------------------------------------------------------------------------------------------\n",
            "DropPath_2          [1, 4096, 32]       [1, 4096, 32]       0                   Not Available       \n",
            "----------------------------------------------------------------------------------------------------\n",
            "Block_2             [1, 4096, 32]       [1, 4096, 32]       0                   Not Available       \n",
            "----------------------------------------------------------------------------------------------------\n",
            "LayerNorm_6         [1, 4096, 32]       [1, 4096, 32]       0                   Not Available       \n",
            "----------------------------------------------------------------------------------------------------\n",
            "ShiftedConcatenator_2[1, 32, 64, 64]     [1, 160, 64, 64]    0                   Not Available       \n",
            "----------------------------------------------------------------------------------------------------\n",
            "Conv2d_4            [1, 160, 64, 64]    [1, 64, 32, 32]     92224               94371840            \n",
            "----------------------------------------------------------------------------------------------------\n",
            "LayerNorm_7         [1, 1024, 64]       [1, 1024, 64]       0                   Not Available       \n",
            "----------------------------------------------------------------------------------------------------\n",
            "OverlapPatchEmbedSPT_2[1, 32, 64, 64]     [1, 1024, 64]       0                   Not Available       \n",
            "----------------------------------------------------------------------------------------------------\n",
            "LayerNorm_8         [1, 1024, 64]       [1, 1024, 64]       0                   Not Available       \n",
            "----------------------------------------------------------------------------------------------------\n",
            "Linear_11           [1, 1024, 64]       [1, 1024, 64]       4160                67108864            \n",
            "----------------------------------------------------------------------------------------------------\n",
            "Linear_12           [1, 1024, 64]       [1, 1024, 128]      8320                134217728           \n",
            "----------------------------------------------------------------------------------------------------\n",
            "Dropout_9           [1, 2, 1024, 1024]  [1, 2, 1024, 1024]  0                   Not Available       \n",
            "----------------------------------------------------------------------------------------------------\n",
            "Linear_13           [1, 1024, 64]       [1, 1024, 64]       4160                67108864            \n",
            "----------------------------------------------------------------------------------------------------\n",
            "Dropout_10          [1, 1024, 64]       [1, 1024, 64]       0                   Not Available       \n",
            "----------------------------------------------------------------------------------------------------\n",
            "Attention_3         [1, 1024, 64]       [1, 1024, 64]       0                   Not Available       \n",
            "----------------------------------------------------------------------------------------------------\n",
            "DropPath_3          [1, 1024, 64]       [1, 1024, 64]       0                   Not Available       \n",
            "----------------------------------------------------------------------------------------------------\n",
            "LayerNorm_9         [1, 1024, 64]       [1, 1024, 64]       0                   Not Available       \n",
            "----------------------------------------------------------------------------------------------------\n",
            "Linear_14           [1, 1024, 64]       [1, 1024, 256]      16640               268435456           \n",
            "----------------------------------------------------------------------------------------------------\n",
            "Conv2d_5            [1, 256, 32, 32]    [1, 256, 32, 32]    2560                2359296             \n",
            "----------------------------------------------------------------------------------------------------\n",
            "DWConv_3            [1, 1024, 256]      [1, 1024, 256]      2560                Not Available       \n",
            "----------------------------------------------------------------------------------------------------\n",
            "GELU_3              [1, 1024, 256]      [1, 1024, 256]      0                   Not Available       \n",
            "----------------------------------------------------------------------------------------------------\n",
            "Dropout_11          [1, 1024, 256]      [1, 1024, 256]      0                   Not Available       \n",
            "----------------------------------------------------------------------------------------------------\n",
            "Linear_15           [1, 1024, 256]      [1, 1024, 64]       16448               67108864            \n",
            "----------------------------------------------------------------------------------------------------\n",
            "Dropout_12          [1, 1024, 64]       [1, 1024, 64]       0                   Not Available       \n",
            "----------------------------------------------------------------------------------------------------\n",
            "Mlp_3               [1, 1024, 64]       [1, 1024, 64]       0                   Not Available       \n",
            "----------------------------------------------------------------------------------------------------\n",
            "DropPath_4          [1, 1024, 64]       [1, 1024, 64]       0                   Not Available       \n",
            "----------------------------------------------------------------------------------------------------\n",
            "Block_3             [1, 1024, 64]       [1, 1024, 64]       0                   Not Available       \n",
            "----------------------------------------------------------------------------------------------------\n",
            "LayerNorm_10        [1, 1024, 64]       [1, 1024, 64]       0                   Not Available       \n",
            "----------------------------------------------------------------------------------------------------\n",
            "Linear_16           [1, 1024, 64]       [1, 1024, 64]       4160                67108864            \n",
            "----------------------------------------------------------------------------------------------------\n",
            "Linear_17           [1, 1024, 64]       [1, 1024, 128]      8320                134217728           \n",
            "----------------------------------------------------------------------------------------------------\n",
            "Dropout_13          [1, 2, 1024, 1024]  [1, 2, 1024, 1024]  0                   Not Available       \n",
            "----------------------------------------------------------------------------------------------------\n",
            "Linear_18           [1, 1024, 64]       [1, 1024, 64]       4160                67108864            \n",
            "----------------------------------------------------------------------------------------------------\n",
            "Dropout_14          [1, 1024, 64]       [1, 1024, 64]       0                   Not Available       \n",
            "----------------------------------------------------------------------------------------------------\n",
            "Attention_4         [1, 1024, 64]       [1, 1024, 64]       0                   Not Available       \n",
            "----------------------------------------------------------------------------------------------------\n",
            "DropPath_5          [1, 1024, 64]       [1, 1024, 64]       0                   Not Available       \n",
            "----------------------------------------------------------------------------------------------------\n",
            "LayerNorm_11        [1, 1024, 64]       [1, 1024, 64]       0                   Not Available       \n",
            "----------------------------------------------------------------------------------------------------\n",
            "Linear_19           [1, 1024, 64]       [1, 1024, 256]      16640               268435456           \n",
            "----------------------------------------------------------------------------------------------------\n",
            "Conv2d_6            [1, 256, 32, 32]    [1, 256, 32, 32]    2560                2359296             \n",
            "----------------------------------------------------------------------------------------------------\n",
            "DWConv_4            [1, 1024, 256]      [1, 1024, 256]      2560                Not Available       \n",
            "----------------------------------------------------------------------------------------------------\n",
            "GELU_4              [1, 1024, 256]      [1, 1024, 256]      0                   Not Available       \n",
            "----------------------------------------------------------------------------------------------------\n",
            "Dropout_15          [1, 1024, 256]      [1, 1024, 256]      0                   Not Available       \n",
            "----------------------------------------------------------------------------------------------------\n",
            "Linear_20           [1, 1024, 256]      [1, 1024, 64]       16448               67108864            \n",
            "----------------------------------------------------------------------------------------------------\n",
            "Dropout_16          [1, 1024, 64]       [1, 1024, 64]       0                   Not Available       \n",
            "----------------------------------------------------------------------------------------------------\n",
            "Mlp_4               [1, 1024, 64]       [1, 1024, 64]       0                   Not Available       \n",
            "----------------------------------------------------------------------------------------------------\n",
            "DropPath_6          [1, 1024, 64]       [1, 1024, 64]       0                   Not Available       \n",
            "----------------------------------------------------------------------------------------------------\n",
            "Block_4             [1, 1024, 64]       [1, 1024, 64]       0                   Not Available       \n",
            "----------------------------------------------------------------------------------------------------\n",
            "LayerNorm_12        [1, 1024, 64]       [1, 1024, 64]       0                   Not Available       \n",
            "----------------------------------------------------------------------------------------------------\n",
            "ShiftedConcatenator_3[1, 64, 32, 32]     [1, 320, 32, 32]    0                   Not Available       \n",
            "----------------------------------------------------------------------------------------------------\n",
            "Conv2d_7            [1, 320, 32, 32]    [1, 160, 16, 16]    460960              117964800           \n",
            "----------------------------------------------------------------------------------------------------\n",
            "LayerNorm_13        [1, 256, 160]       [1, 256, 160]       0                   Not Available       \n",
            "----------------------------------------------------------------------------------------------------\n",
            "OverlapPatchEmbedSPT_3[1, 64, 32, 32]     [1, 256, 160]       0                   Not Available       \n",
            "----------------------------------------------------------------------------------------------------\n",
            "LayerNorm_14        [1, 256, 160]       [1, 256, 160]       0                   Not Available       \n",
            "----------------------------------------------------------------------------------------------------\n",
            "Linear_21           [1, 256, 160]       [1, 256, 160]       25760               10485760            \n",
            "----------------------------------------------------------------------------------------------------\n",
            "Linear_22           [1, 256, 160]       [1, 256, 320]       51520               20971520            \n",
            "----------------------------------------------------------------------------------------------------\n",
            "Dropout_17          [1, 5, 256, 256]    [1, 5, 256, 256]    0                   Not Available       \n",
            "----------------------------------------------------------------------------------------------------\n",
            "Linear_23           [1, 256, 160]       [1, 256, 160]       25760               10485760            \n",
            "----------------------------------------------------------------------------------------------------\n",
            "Dropout_18          [1, 256, 160]       [1, 256, 160]       0                   Not Available       \n",
            "----------------------------------------------------------------------------------------------------\n",
            "Attention_5         [1, 256, 160]       [1, 256, 160]       0                   Not Available       \n",
            "----------------------------------------------------------------------------------------------------\n",
            "DropPath_7          [1, 256, 160]       [1, 256, 160]       0                   Not Available       \n",
            "----------------------------------------------------------------------------------------------------\n",
            "LayerNorm_15        [1, 256, 160]       [1, 256, 160]       0                   Not Available       \n",
            "----------------------------------------------------------------------------------------------------\n",
            "Linear_24           [1, 256, 160]       [1, 256, 640]       103040              41943040            \n",
            "----------------------------------------------------------------------------------------------------\n",
            "Conv2d_8            [1, 640, 16, 16]    [1, 640, 16, 16]    6400                1474560             \n",
            "----------------------------------------------------------------------------------------------------\n",
            "DWConv_5            [1, 256, 640]       [1, 256, 640]       6400                Not Available       \n",
            "----------------------------------------------------------------------------------------------------\n",
            "GELU_5              [1, 256, 640]       [1, 256, 640]       0                   Not Available       \n",
            "----------------------------------------------------------------------------------------------------\n",
            "Dropout_19          [1, 256, 640]       [1, 256, 640]       0                   Not Available       \n",
            "----------------------------------------------------------------------------------------------------\n",
            "Linear_25           [1, 256, 640]       [1, 256, 160]       102560              10485760            \n",
            "----------------------------------------------------------------------------------------------------\n",
            "Dropout_20          [1, 256, 160]       [1, 256, 160]       0                   Not Available       \n",
            "----------------------------------------------------------------------------------------------------\n",
            "Mlp_5               [1, 256, 160]       [1, 256, 160]       0                   Not Available       \n",
            "----------------------------------------------------------------------------------------------------\n",
            "DropPath_8          [1, 256, 160]       [1, 256, 160]       0                   Not Available       \n",
            "----------------------------------------------------------------------------------------------------\n",
            "Block_5             [1, 256, 160]       [1, 256, 160]       0                   Not Available       \n",
            "----------------------------------------------------------------------------------------------------\n",
            "LayerNorm_16        [1, 256, 160]       [1, 256, 160]       0                   Not Available       \n",
            "----------------------------------------------------------------------------------------------------\n",
            "Linear_26           [1, 256, 160]       [1, 256, 160]       25760               10485760            \n",
            "----------------------------------------------------------------------------------------------------\n",
            "Linear_27           [1, 256, 160]       [1, 256, 320]       51520               20971520            \n",
            "----------------------------------------------------------------------------------------------------\n",
            "Dropout_21          [1, 5, 256, 256]    [1, 5, 256, 256]    0                   Not Available       \n",
            "----------------------------------------------------------------------------------------------------\n",
            "Linear_28           [1, 256, 160]       [1, 256, 160]       25760               10485760            \n",
            "----------------------------------------------------------------------------------------------------\n",
            "Dropout_22          [1, 256, 160]       [1, 256, 160]       0                   Not Available       \n",
            "----------------------------------------------------------------------------------------------------\n",
            "Attention_6         [1, 256, 160]       [1, 256, 160]       0                   Not Available       \n",
            "----------------------------------------------------------------------------------------------------\n",
            "DropPath_9          [1, 256, 160]       [1, 256, 160]       0                   Not Available       \n",
            "----------------------------------------------------------------------------------------------------\n",
            "LayerNorm_17        [1, 256, 160]       [1, 256, 160]       0                   Not Available       \n",
            "----------------------------------------------------------------------------------------------------\n",
            "Linear_29           [1, 256, 160]       [1, 256, 640]       103040              41943040            \n",
            "----------------------------------------------------------------------------------------------------\n",
            "Conv2d_9            [1, 640, 16, 16]    [1, 640, 16, 16]    6400                1474560             \n",
            "----------------------------------------------------------------------------------------------------\n",
            "DWConv_6            [1, 256, 640]       [1, 256, 640]       6400                Not Available       \n",
            "----------------------------------------------------------------------------------------------------\n",
            "GELU_6              [1, 256, 640]       [1, 256, 640]       0                   Not Available       \n",
            "----------------------------------------------------------------------------------------------------\n",
            "Dropout_23          [1, 256, 640]       [1, 256, 640]       0                   Not Available       \n",
            "----------------------------------------------------------------------------------------------------\n",
            "Linear_30           [1, 256, 640]       [1, 256, 160]       102560              10485760            \n",
            "----------------------------------------------------------------------------------------------------\n",
            "Dropout_24          [1, 256, 160]       [1, 256, 160]       0                   Not Available       \n",
            "----------------------------------------------------------------------------------------------------\n",
            "Mlp_6               [1, 256, 160]       [1, 256, 160]       0                   Not Available       \n",
            "----------------------------------------------------------------------------------------------------\n",
            "DropPath_10         [1, 256, 160]       [1, 256, 160]       0                   Not Available       \n",
            "----------------------------------------------------------------------------------------------------\n",
            "Block_6             [1, 256, 160]       [1, 256, 160]       0                   Not Available       \n",
            "----------------------------------------------------------------------------------------------------\n",
            "LayerNorm_18        [1, 256, 160]       [1, 256, 160]       0                   Not Available       \n",
            "----------------------------------------------------------------------------------------------------\n",
            "ShiftedConcatenator_4[1, 160, 16, 16]    [1, 800, 16, 16]    0                   Not Available       \n",
            "----------------------------------------------------------------------------------------------------\n",
            "Conv2d_10           [1, 800, 16, 16]    [1, 256, 8, 8]      1843456             117964800           \n",
            "----------------------------------------------------------------------------------------------------\n",
            "LayerNorm_19        [1, 64, 256]        [1, 64, 256]        0                   Not Available       \n",
            "----------------------------------------------------------------------------------------------------\n",
            "OverlapPatchEmbedSPT_4[1, 160, 16, 16]    [1, 64, 256]        0                   Not Available       \n",
            "----------------------------------------------------------------------------------------------------\n",
            "LayerNorm_20        [1, 64, 256]        [1, 64, 256]        0                   Not Available       \n",
            "----------------------------------------------------------------------------------------------------\n",
            "Linear_31           [1, 64, 256]        [1, 64, 256]        65792               1048576             \n",
            "----------------------------------------------------------------------------------------------------\n",
            "Linear_32           [1, 64, 256]        [1, 64, 512]        131584              2097152             \n",
            "----------------------------------------------------------------------------------------------------\n",
            "Dropout_25          [1, 8, 64, 64]      [1, 8, 64, 64]      0                   Not Available       \n",
            "----------------------------------------------------------------------------------------------------\n",
            "Linear_33           [1, 64, 256]        [1, 64, 256]        65792               1048576             \n",
            "----------------------------------------------------------------------------------------------------\n",
            "Dropout_26          [1, 64, 256]        [1, 64, 256]        0                   Not Available       \n",
            "----------------------------------------------------------------------------------------------------\n",
            "Attention_7         [1, 64, 256]        [1, 64, 256]        0                   Not Available       \n",
            "----------------------------------------------------------------------------------------------------\n",
            "DropPath_11         [1, 64, 256]        [1, 64, 256]        0                   Not Available       \n",
            "----------------------------------------------------------------------------------------------------\n",
            "LayerNorm_21        [1, 64, 256]        [1, 64, 256]        0                   Not Available       \n",
            "----------------------------------------------------------------------------------------------------\n",
            "Linear_34           [1, 64, 256]        [1, 64, 1024]       263168              4194304             \n",
            "----------------------------------------------------------------------------------------------------\n",
            "Conv2d_11           [1, 1024, 8, 8]     [1, 1024, 8, 8]     10240               589824              \n",
            "----------------------------------------------------------------------------------------------------\n",
            "DWConv_7            [1, 64, 1024]       [1, 64, 1024]       10240               Not Available       \n",
            "----------------------------------------------------------------------------------------------------\n",
            "GELU_7              [1, 64, 1024]       [1, 64, 1024]       0                   Not Available       \n",
            "----------------------------------------------------------------------------------------------------\n",
            "Dropout_27          [1, 64, 1024]       [1, 64, 1024]       0                   Not Available       \n",
            "----------------------------------------------------------------------------------------------------\n",
            "Linear_35           [1, 64, 1024]       [1, 64, 256]        262400              1048576             \n",
            "----------------------------------------------------------------------------------------------------\n",
            "Dropout_28          [1, 64, 256]        [1, 64, 256]        0                   Not Available       \n",
            "----------------------------------------------------------------------------------------------------\n",
            "Mlp_7               [1, 64, 256]        [1, 64, 256]        0                   Not Available       \n",
            "----------------------------------------------------------------------------------------------------\n",
            "DropPath_12         [1, 64, 256]        [1, 64, 256]        0                   Not Available       \n",
            "----------------------------------------------------------------------------------------------------\n",
            "Block_7             [1, 64, 256]        [1, 64, 256]        0                   Not Available       \n",
            "----------------------------------------------------------------------------------------------------\n",
            "LayerNorm_22        [1, 64, 256]        [1, 64, 256]        0                   Not Available       \n",
            "----------------------------------------------------------------------------------------------------\n",
            "Linear_36           [1, 64, 256]        [1, 64, 256]        65792               1048576             \n",
            "----------------------------------------------------------------------------------------------------\n",
            "Linear_37           [1, 64, 256]        [1, 64, 512]        131584              2097152             \n",
            "----------------------------------------------------------------------------------------------------\n",
            "Dropout_29          [1, 8, 64, 64]      [1, 8, 64, 64]      0                   Not Available       \n",
            "----------------------------------------------------------------------------------------------------\n",
            "Linear_38           [1, 64, 256]        [1, 64, 256]        65792               1048576             \n",
            "----------------------------------------------------------------------------------------------------\n",
            "Dropout_30          [1, 64, 256]        [1, 64, 256]        0                   Not Available       \n",
            "----------------------------------------------------------------------------------------------------\n",
            "Attention_8         [1, 64, 256]        [1, 64, 256]        0                   Not Available       \n",
            "----------------------------------------------------------------------------------------------------\n",
            "DropPath_13         [1, 64, 256]        [1, 64, 256]        0                   Not Available       \n",
            "----------------------------------------------------------------------------------------------------\n",
            "LayerNorm_23        [1, 64, 256]        [1, 64, 256]        0                   Not Available       \n",
            "----------------------------------------------------------------------------------------------------\n",
            "Linear_39           [1, 64, 256]        [1, 64, 1024]       263168              4194304             \n",
            "----------------------------------------------------------------------------------------------------\n",
            "Conv2d_12           [1, 1024, 8, 8]     [1, 1024, 8, 8]     10240               589824              \n",
            "----------------------------------------------------------------------------------------------------\n",
            "DWConv_8            [1, 64, 1024]       [1, 64, 1024]       10240               Not Available       \n",
            "----------------------------------------------------------------------------------------------------\n",
            "GELU_8              [1, 64, 1024]       [1, 64, 1024]       0                   Not Available       \n",
            "----------------------------------------------------------------------------------------------------\n",
            "Dropout_31          [1, 64, 1024]       [1, 64, 1024]       0                   Not Available       \n",
            "----------------------------------------------------------------------------------------------------\n",
            "Linear_40           [1, 64, 1024]       [1, 64, 256]        262400              1048576             \n",
            "----------------------------------------------------------------------------------------------------\n",
            "Dropout_32          [1, 64, 256]        [1, 64, 256]        0                   Not Available       \n",
            "----------------------------------------------------------------------------------------------------\n",
            "Mlp_8               [1, 64, 256]        [1, 64, 256]        0                   Not Available       \n",
            "----------------------------------------------------------------------------------------------------\n",
            "DropPath_14         [1, 64, 256]        [1, 64, 256]        0                   Not Available       \n",
            "----------------------------------------------------------------------------------------------------\n",
            "Block_8             [1, 64, 256]        [1, 64, 256]        0                   Not Available       \n",
            "----------------------------------------------------------------------------------------------------\n",
            "LayerNorm_24        [1, 64, 256]        [1, 64, 256]        0                   Not Available       \n",
            "----------------------------------------------------------------------------------------------------\n",
            "Linear_41           [1, 64, 256]        [1, 64, 256]        65792               1048576             \n",
            "----------------------------------------------------------------------------------------------------\n",
            "LinearMLP_1         [1, 256, 8, 8]      [1, 64, 256]        65792               Not Available       \n",
            "----------------------------------------------------------------------------------------------------\n",
            "Linear_42           [1, 256, 160]       [1, 256, 256]       41216               16777216            \n",
            "----------------------------------------------------------------------------------------------------\n",
            "LinearMLP_2         [1, 160, 16, 16]    [1, 256, 256]       41216               Not Available       \n",
            "----------------------------------------------------------------------------------------------------\n",
            "Linear_43           [1, 1024, 64]       [1, 1024, 256]      16640               268435456           \n",
            "----------------------------------------------------------------------------------------------------\n",
            "LinearMLP_3         [1, 64, 32, 32]     [1, 1024, 256]      16640               Not Available       \n",
            "----------------------------------------------------------------------------------------------------\n",
            "Linear_44           [1, 4096, 32]       [1, 4096, 256]      8448                4294967296          \n",
            "----------------------------------------------------------------------------------------------------\n",
            "LinearMLP_4         [1, 32, 64, 64]     [1, 4096, 256]      8448                Not Available       \n",
            "----------------------------------------------------------------------------------------------------\n",
            "AvgPool2d_1         [1, 32, 64, 64]     [1, 32, 8, 8]       0                   Not Available       \n",
            "----------------------------------------------------------------------------------------------------\n",
            "Linear_45           [1, 384, 64]        [1, 384, 512]       33280               75497472            \n",
            "----------------------------------------------------------------------------------------------------\n",
            "ReLU_1              [1, 384, 512]       [1, 384, 512]       0                   Not Available       \n",
            "----------------------------------------------------------------------------------------------------\n",
            "Linear_46           [1, 384, 512]       [1, 384, 512]       262656              75497472            \n",
            "----------------------------------------------------------------------------------------------------\n",
            "ReLU_2              [1, 384, 512]       [1, 384, 512]       0                   Not Available       \n",
            "----------------------------------------------------------------------------------------------------\n",
            "Linear_47           [1, 384, 512]       [1, 384, 2]         1026                294912              \n",
            "----------------------------------------------------------------------------------------------------\n",
            "DenseRelativeLoc_1  [1, 32, 8, 8]       [384, 2]            0                   Not Available       \n",
            "----------------------------------------------------------------------------------------------------\n",
            "AvgPool2d_2         [1, 64, 32, 32]     [1, 64, 8, 8]       0                   Not Available       \n",
            "----------------------------------------------------------------------------------------------------\n",
            "Linear_48           [1, 384, 128]       [1, 384, 512]       66048               75497472            \n",
            "----------------------------------------------------------------------------------------------------\n",
            "ReLU_3              [1, 384, 512]       [1, 384, 512]       0                   Not Available       \n",
            "----------------------------------------------------------------------------------------------------\n",
            "Linear_49           [1, 384, 512]       [1, 384, 512]       262656              75497472            \n",
            "----------------------------------------------------------------------------------------------------\n",
            "ReLU_4              [1, 384, 512]       [1, 384, 512]       0                   Not Available       \n",
            "----------------------------------------------------------------------------------------------------\n",
            "Linear_50           [1, 384, 512]       [1, 384, 2]         1026                294912              \n",
            "----------------------------------------------------------------------------------------------------\n",
            "DenseRelativeLoc_2  [1, 64, 8, 8]       [384, 2]            0                   Not Available       \n",
            "----------------------------------------------------------------------------------------------------\n",
            "AvgPool2d_3         [1, 160, 16, 16]    [1, 160, 8, 8]      0                   Not Available       \n",
            "----------------------------------------------------------------------------------------------------\n",
            "Linear_51           [1, 384, 320]       [1, 384, 512]       164352              75497472            \n",
            "----------------------------------------------------------------------------------------------------\n",
            "ReLU_5              [1, 384, 512]       [1, 384, 512]       0                   Not Available       \n",
            "----------------------------------------------------------------------------------------------------\n",
            "Linear_52           [1, 384, 512]       [1, 384, 512]       262656              75497472            \n",
            "----------------------------------------------------------------------------------------------------\n",
            "ReLU_6              [1, 384, 512]       [1, 384, 512]       0                   Not Available       \n",
            "----------------------------------------------------------------------------------------------------\n",
            "Linear_53           [1, 384, 512]       [1, 384, 2]         1026                294912              \n",
            "----------------------------------------------------------------------------------------------------\n",
            "DenseRelativeLoc_3  [1, 160, 8, 8]      [384, 2]            0                   Not Available       \n",
            "----------------------------------------------------------------------------------------------------\n",
            "AvgPool2d_4         [1, 256, 8, 8]      [1, 256, 8, 8]      0                   Not Available       \n",
            "----------------------------------------------------------------------------------------------------\n",
            "Linear_54           [1, 384, 512]       [1, 384, 512]       262656              75497472            \n",
            "----------------------------------------------------------------------------------------------------\n",
            "ReLU_7              [1, 384, 512]       [1, 384, 512]       0                   Not Available       \n",
            "----------------------------------------------------------------------------------------------------\n",
            "Linear_55           [1, 384, 512]       [1, 384, 512]       262656              75497472            \n",
            "----------------------------------------------------------------------------------------------------\n",
            "ReLU_8              [1, 384, 512]       [1, 384, 512]       0                   Not Available       \n",
            "----------------------------------------------------------------------------------------------------\n",
            "Linear_56           [1, 384, 512]       [1, 384, 2]         1026                294912              \n",
            "----------------------------------------------------------------------------------------------------\n",
            "DenseRelativeLoc_4  [1, 256, 8, 8]      [384, 2]            0                   Not Available       \n",
            "----------------------------------------------------------------------------------------------------\n",
            "Conv2d_13           [1, 1024, 64, 64]   [1, 256, 64, 64]    262400              1073741824          \n",
            "----------------------------------------------------------------------------------------------------\n",
            "Dropout2d_1         [1, 256, 64, 64]    [1, 256, 64, 64]    0                   Not Available       \n",
            "----------------------------------------------------------------------------------------------------\n",
            "Conv2d_14           [1, 256, 64, 64]    [1, 1, 64, 64]      257                 1048576             \n",
            "----------------------------------------------------------------------------------------------------\n",
            "\n",
            "Total Parameters: 6,929,385\n",
            "----------------------------------------------------------------------------------------------------\n",
            "Total Multiply Adds (For Convolution and Linear Layers only): 16.56390380859375 GFLOPs\n",
            "----------------------------------------------------------------------------------------------------\n",
            "Number of Layers\n",
            "ShiftedConcatenator : 4 layers   Conv2d : 14 layers   LayerNorm : 24 layers   OverlapPatchEmbedSPT : 4 layers   Linear : 56 layers   Dropout : 32 layers   Attention : 8 layers   Identity : 2 layers   DWConv : 8 layers   GELU : 8 layers   Mlp : 8 layers   Block : 8 layers   DropPath : 14 layers   LinearMLP : 4 layers   AvgPool2d : 4 layers   ReLU : 8 layers   DenseRelativeLoc : 4 layers   Dropout2d : 1 layers   \n"
          ]
        }
      ]
    },
    {
      "cell_type": "markdown",
      "source": [],
      "metadata": {
        "id": "P2q6Kvho3Onj"
      },
      "id": "P2q6Kvho3Onj"
    },
    {
      "cell_type": "code",
      "source": [
        "#PyTorch\n",
        "class IoU(nn.Module):\n",
        "    def __init__(self, weight=None, size_average=True):\n",
        "        super(IoU, self).__init__()\n",
        "\n",
        "    def forward(self, inputs, targets, smooth=1):\n",
        "        \n",
        "        #flatten label and prediction tensors\n",
        "        inputs = inputs.view(-1)\n",
        "        targets = targets.view(-1)\n",
        "        t = torch.Tensor([0.5]).to(device)  # threshold\n",
        "        inputs = (inputs > t).float() \n",
        "\n",
        "        #intersection is equivalent to True Positive count\n",
        "        #union is the mutually inclusive area of all labels & predictions \n",
        "        intersection = (inputs * targets).sum()\n",
        "        total = (inputs + targets).sum()\n",
        "        union = total - intersection \n",
        "        \n",
        "        IoU = (intersection + smooth)/(union + smooth)\n",
        "                \n",
        "        return IoU"
      ],
      "metadata": {
        "id": "fDjRCIbGI1zo"
      },
      "id": "fDjRCIbGI1zo",
      "execution_count": 22,
      "outputs": []
    },
    {
      "cell_type": "code",
      "execution_count": 23,
      "id": "574acd17",
      "metadata": {
        "id": "574acd17",
        "colab": {
          "base_uri": "https://localhost:8080/"
        },
        "outputId": "a2ccdc7e-0773-4762-b15e-917c1931c0f5"
      },
      "outputs": [
        {
          "output_type": "stream",
          "name": "stdout",
          "text": [
            "Looking in indexes: https://pypi.org/simple, https://us-python.pkg.dev/colab-wheels/public/simple/\n",
            "Requirement already satisfied: torchmetrics in /usr/local/lib/python3.8/dist-packages (0.11.0)\n",
            "Requirement already satisfied: packaging in /usr/local/lib/python3.8/dist-packages (from torchmetrics) (21.3)\n",
            "Requirement already satisfied: typing-extensions in /usr/local/lib/python3.8/dist-packages (from torchmetrics) (4.4.0)\n",
            "Requirement already satisfied: torch>=1.8.1 in /usr/local/lib/python3.8/dist-packages (from torchmetrics) (1.13.0+cu116)\n",
            "Requirement already satisfied: numpy>=1.17.2 in /usr/local/lib/python3.8/dist-packages (from torchmetrics) (1.21.6)\n",
            "Requirement already satisfied: pyparsing!=3.0.5,>=2.0.2 in /usr/local/lib/python3.8/dist-packages (from packaging->torchmetrics) (3.0.9)\n"
          ]
        }
      ],
      "source": [
        "!{sys.executable} -m pip install torchmetrics\n",
        "from torchmetrics import JaccardIndex\n",
        "def train(\n",
        "    cfg, \n",
        "    dataloader, \n",
        "    model, \n",
        "    loss_fn,\n",
        "    optimizer, \n",
        "    lr_scheduler, \n",
        "    scaler, \n",
        "    writer_dict,\n",
        "    epoch, \n",
        "    loss_fn2 = None\n",
        "):\n",
        "    model.train()\n",
        "    \n",
        "    ave_loss = AverageMeter() # object to compute and store the average and current value\n",
        "    ave_iou = AverageMeter()\n",
        "    steps_tot = epoch*len(dataloader) # overall amount of steps, as the number of total passes of samples in the network (e.g epoch = 2, len(dataloander) = batch_size = 5, steps_tot = 10)\n",
        "    writer = writer_dict['writer']\n",
        "    global_steps = writer_dict['train_global_steps'] # global steps are the so far total number of epochs completed\n",
        "    Jaccard = IoU().to(device)\n",
        "    \n",
        "    # loops over each batch (e.g: size 2 batch)\n",
        "    for step, batch in enumerate(dataloader):\n",
        "        X, y = batch # input, target\n",
        "        X = torch.stack([X,X,X], 1)\n",
        "        #X = F.interpolate(X, size = 64, mode = 'bilinear', align_corners = False)\n",
        "        X, y = X.cuda(), y.long().cuda()\n",
        "        \n",
        "        # Compute prediction and loss\n",
        "        with torch.cuda.amp.autocast():\n",
        "            out = model(X.contiguous()) # Returns a contiguous in memory tensor containing the same data as self tensor\n",
        "            pred = out.x.clone()\n",
        "            pred = pred.double()\n",
        "            pred = F.interpolate(pred, size = cfg.DATASET.CROP_SIZE, mode = 'bilinear', align_corners = False) # since the model's output is (64x64), it has to be rescaled to same size as input\n",
        "\n",
        "            losses = loss_fn(torch.squeeze(pred).double(), y) # computes loss for each sample\n",
        "            #print(pred.dtype)\n",
        "            iou = Jaccard(torch.squeeze(pred).double(), y)\n",
        "            \"\"\"if torch.isnan(iou).any():\n",
        "              print(torch.isnan(iou).any())\"\"\"\n",
        "            iou = iou.nanmean()\n",
        " \n",
        "            if loss_fn2:\n",
        "              loss_ssup, ssup_items = loss_fn2.forward(out, 0.1)\n",
        "              \n",
        "            loss = losses.mean() # single loss that is the averge of all the losses of the batch\n",
        "\n",
        "            if loss_fn2:\n",
        "              loss = loss+loss_ssup\n",
        "              #loss = loss\n",
        "\n",
        "\n",
        "\n",
        "            # update average loss <- WHY JUST THE FINAL LOSS IS CONSIDERED??????\n",
        "            ave_loss.update(loss.item())\n",
        "            ave_iou.update(iou.item())\n",
        "            print(\"\\r\", ave_loss.average(), end=\"\")\n",
        "            # Normalize loss to account for batch accumulation\n",
        "            loss = loss / cfg.TRAIN.ACCUM_STEPS \n",
        "            \n",
        "        # Backward pass to compute the gradients\n",
        "        scaler.scale(loss).backward()\n",
        "        \n",
        "        # Weight update\n",
        "        if ((step + 1) % cfg.TRAIN.ACCUM_STEPS == 0) or (step + 1 == len(dataloader)):\n",
        "\n",
        "            # Unscales the gradients of optimizer's assigned params in-place\n",
        "            scaler.unscale_(optimizer)\n",
        "\n",
        "            # Since the gradients of optimizer's assigned params are unscaled, clips as usual:\n",
        "            torch.nn.utils.clip_grad_norm_(model.parameters(), 0.01)\n",
        "            scaler.step(optimizer)\n",
        "            scaler.update()\n",
        "            optimizer.zero_grad() # set the gradients to 0 after updating the weights, in this way the next accumulation of gradients starts from 0 gradient\n",
        "\n",
        "            #print(\"\\r\", iou.item(), end=\"\")\n",
        "            # update learning schedule\n",
        "            lr_scheduler.step()\n",
        "            lr = lr_scheduler.get_lr()\n",
        "        \n",
        "        \n",
        "    writer.add_scalar('train_loss', ave_loss.average(), global_steps) # current AVERAGE TRAINING LOSS\n",
        "    writer_dict['train_global_steps'] = global_steps + 1 # UPDATES EPOCH STEP\n",
        "\n",
        "    return ave_loss.average(), ave_iou.average()\n",
        "\n",
        "    \n",
        "    \n",
        "def validate(\n",
        "    cfg, \n",
        "    dataloader, \n",
        "    model, \n",
        "    loss_fn,\n",
        "    writer_dict,\n",
        "    loss_fn2 = None\n",
        "):\n",
        "    model.eval() \n",
        "    \n",
        "    ave_loss = AverageMeter()  # object to compute and store the average and current value\n",
        "    ave_iou = AverageMeter()\n",
        "    Jaccard = IoU().to(device)\n",
        "    iter_steps = len(dataloader.dataset) // cfg.TRAIN.BATCH_SIZE # computes the number of steps required for a single pass of the whole dataset, given the batch size\n",
        "    confusion_matrix = np.zeros((cfg.DATASET.NUM_CLASSES, cfg.DATASET.NUM_CLASSES, 1))\n",
        "\n",
        "    \n",
        "    with torch.no_grad():\n",
        "        for idx, batch in enumerate(dataloader):\n",
        "            X, y = batch\n",
        "            X = torch.stack([X,X,X], 1)\n",
        "            #X = F.interpolate(X, size = 64, mode = 'bilinear', align_corners = False)\n",
        "            X, y = X.cuda(), y.long().cuda()\n",
        "            \n",
        "            out = model(X.contiguous())\n",
        "            pred = out.x\n",
        "            pred = pred.double()\n",
        "            pred = F.interpolate(pred, size = 256, mode = 'bilinear', align_corners = False)\n",
        "            losses = loss_fn(torch.squeeze(pred).double(), y.double())\n",
        "            iou = Jaccard(torch.squeeze(pred).double(),y.double())\n",
        "            iou = iou.nanmean()\n",
        "            if loss_fn2:\n",
        "              loss_ssup, ssup_items = loss_fn2.forward(out, 0.1)\n",
        "              loss_ssup = loss_ssup.mean()\n",
        "            loss = losses.mean()   \n",
        "\n",
        "            if loss_fn2:\n",
        "              loss = loss + loss_ssup\n",
        "\n",
        "            ave_loss.update(loss.item())      \n",
        "            ave_iou.update(iou.item())\n",
        "\n",
        "    writer = writer_dict['writer']\n",
        "    global_steps = writer_dict['valid_global_steps']\n",
        "    writer.add_scalar('valid_loss', ave_loss.average(), global_steps)\n",
        "    writer.add_scalar('valid_mIoU', ave_iou.average(), global_steps)\n",
        "    for key, val in trainid2label.items():\n",
        "        if key != cfg.DATASET.IGNORE_LABEL and key != -1:\n",
        "            if val.name == 'traffic light':\n",
        "                val_name = \"traffic_light\"\n",
        "            elif val.name == 'traffic sign':\n",
        "                val_name = \"traffic_sign\"\n",
        "            else:\n",
        "                val_name = val.name\n",
        "    writer_dict['valid_global_steps'] = global_steps + 1\n",
        "        \n",
        "    return ave_loss.average(), ave_iou.average()"
      ]
    },
    {
      "cell_type": "code",
      "execution_count": 24,
      "id": "046db724",
      "metadata": {
        "id": "046db724"
      },
      "outputs": [],
      "source": [
        "def run_train_loop():\n",
        "    \n",
        "    logger, final_output_dir, tb_log_dir = create_logger(cfg, cfg_name=cfg.NAME, phase='train')\n",
        "    \n",
        "    writer_dict = {'writer': SummaryWriter(tb_log_dir), 'train_global_steps': 0, 'valid_global_steps': 0}\n",
        "\n",
        "    best_mIoU = 0 # stores the best mean intersection over unit value\n",
        "    \n",
        "    start = timeit.default_timer()\n",
        "\n",
        "    for epoch in range(1000):\n",
        "        \n",
        "        e_start = time.time()\n",
        "\n",
        "        train_loss, t_mean_IoU = train(\n",
        "            cfg=cfg, \n",
        "            dataloader=train_dataloader,\n",
        "            model=model, \n",
        "            loss_fn=criterion, \n",
        "            optimizer=optimizer, \n",
        "            lr_scheduler=lr_scheduler,\n",
        "            epoch=epoch, \n",
        "            scaler=torch.cuda.amp.GradScaler(),\n",
        "            writer_dict=writer_dict,\n",
        "            loss_fn2 = loss2\n",
        "        )\n",
        "\n",
        "        valid_loss, mean_IoU = validate(\n",
        "            cfg=cfg, \n",
        "            dataloader=valid_dataloader, \n",
        "            model=model,  \n",
        "            loss_fn=criterion,\n",
        "            writer_dict=writer_dict,\n",
        "            loss_fn2 = loss2\n",
        "\n",
        "        )\n",
        "\n",
        "        # logger.info('=> saving checkpoint to {}'.format(final_output_dir + 'checkpoint.pth.tar'))\n",
        "\n",
        "        # saves the model after each epoch in a zipped format, overwritting the previous checkpoint\n",
        "        torch.save({\n",
        "            'epoch': epoch+1,\n",
        "            'best_mIoU': best_mIoU,\n",
        "            'state_dict': model.state_dict(),\n",
        "            'optimizer': optimizer.state_dict(),\n",
        "        }, os.path.join(final_output_dir,'checkpoint.pth.tar'))\n",
        "\n",
        "        if mean_IoU > best_mIoU:\n",
        "            best_mIoU = mean_IoU\n",
        "            torch.save(model.state_dict(), os.path.join(final_output_dir, 'best.pth')) # saves the best model so far\n",
        "            \n",
        "        e_end = time.time()\n",
        "        t_epoch = e_end - e_start\n",
        "\n",
        "        msg = 'Epoch {}/{} --- {:.1f}s, TLoss: {:.3f}, TMeanIoU: {: 4.4f} , Loss: {:.3f}, MeanIoU: {: 4.4f}, Best_mIoU: {: 4.4f}'.format(\n",
        "            epoch+1, cfg.TRAIN.EPOCHS, t_epoch, train_loss, t_mean_IoU, valid_loss, mean_IoU, best_mIoU)\n",
        "        logging.info(msg)\n",
        "        \n",
        "    torch.save(model.state_dict(), os.path.join(final_output_dir, 'final_state.pth')) # saves the final model\n",
        "    \n",
        "    writer_dict['writer'].close()\n",
        "    end = timeit.default_timer()\n",
        "    logger.info('Hours: %d' % np.int((end-start)/3600))\n",
        "    logger.info('Done')"
      ]
    },
    {
      "cell_type": "code",
      "execution_count": null,
      "id": "cec33269",
      "metadata": {
        "scrolled": false,
        "id": "cec33269",
        "colab": {
          "base_uri": "https://localhost:8080/"
        },
        "outputId": "0fc42d92-55c6-47ba-e83c-169614a03179"
      },
      "outputs": [
        {
          "metadata": {
            "tags": null
          },
          "name": "stdout",
          "output_type": "stream",
          "text": [
            "=> creating /content/segmentation_pytorch/outputs\n",
            "=> creating /content/segmentation_pytorch/logs\n",
            "=> creating /content/segmentation_pytorch/outputs/cityscapes/segformer_train_1024x1024_adamw_lr6e-6_wd1e-2_bs_8_epoch400\n",
            "=> creating /content/segmentation_pytorch/logs/cityscapes/segformer/segformer_train_1024x1024_adamw_lr6e-6_wd1e-2_bs_8_epoch400_2023-01-13-15-33\n",
            " 1.7658737223693906"
          ]
        },
        {
          "metadata": {
            "tags": null
          },
          "name": "stderr",
          "output_type": "stream",
          "text": [
            "/usr/local/lib/python3.8/dist-packages/torch/optim/lr_scheduler.py:1282: UserWarning: To get the last learning rate computed by the scheduler, please use `get_last_lr()`.\n",
            "  warnings.warn(\"To get the last learning rate computed by the scheduler, \"\n"
          ]
        },
        {
          "metadata": {
            "tags": null
          },
          "name": "stdout",
          "output_type": "stream",
          "text": [
            " 1.609340694046417"
          ]
        },
        {
          "metadata": {
            "tags": null
          },
          "name": "stderr",
          "output_type": "stream",
          "text": [
            "Epoch 1/20 --- 356.2s, TLoss: 1.609, TMeanIoU:  0.0606 , Loss: 1.492, MeanIoU:  0.1046, Best_mIoU:  0.1046\n"
          ]
        },
        {
          "metadata": {
            "tags": null
          },
          "name": "stdout",
          "output_type": "stream",
          "text": [
            " 1.2719257354140199"
          ]
        },
        {
          "metadata": {
            "tags": null
          },
          "name": "stderr",
          "output_type": "stream",
          "text": [
            "Epoch 2/20 --- 355.6s, TLoss: 1.272, TMeanIoU:  0.1014 , Loss: 1.082, MeanIoU:  0.1083, Best_mIoU:  0.1083\n"
          ]
        },
        {
          "metadata": {
            "tags": null
          },
          "name": "stdout",
          "output_type": "stream",
          "text": [
            " 0.9633924454665544"
          ]
        },
        {
          "metadata": {
            "tags": null
          },
          "name": "stderr",
          "output_type": "stream",
          "text": [
            "Epoch 3/20 --- 355.8s, TLoss: 0.963, TMeanIoU:  0.1289 , Loss: 0.836, MeanIoU:  0.1443, Best_mIoU:  0.1443\n"
          ]
        },
        {
          "metadata": {
            "tags": null
          },
          "name": "stdout",
          "output_type": "stream",
          "text": [
            " 0.7478171222230009"
          ]
        },
        {
          "metadata": {
            "tags": null
          },
          "name": "stderr",
          "output_type": "stream",
          "text": [
            "Epoch 4/20 --- 355.4s, TLoss: 0.748, TMeanIoU:  0.1576 , Loss: 0.711, MeanIoU:  0.1478, Best_mIoU:  0.1478\n"
          ]
        },
        {
          "metadata": {
            "tags": null
          },
          "name": "stdout",
          "output_type": "stream",
          "text": [
            " 0.6373411562830397"
          ]
        },
        {
          "metadata": {
            "tags": null
          },
          "name": "stderr",
          "output_type": "stream",
          "text": [
            "Epoch 5/20 --- 354.7s, TLoss: 0.637, TMeanIoU:  0.1901 , Loss: 0.590, MeanIoU:  0.1986, Best_mIoU:  0.1986\n"
          ]
        },
        {
          "metadata": {
            "tags": null
          },
          "name": "stdout",
          "output_type": "stream",
          "text": [
            " 0.5582773617895336"
          ]
        },
        {
          "metadata": {
            "tags": null
          },
          "name": "stderr",
          "output_type": "stream",
          "text": [
            "Epoch 6/20 --- 354.3s, TLoss: 0.558, TMeanIoU:  0.2206 , Loss: 0.551, MeanIoU:  0.2306, Best_mIoU:  0.2306\n"
          ]
        },
        {
          "metadata": {
            "tags": null
          },
          "name": "stdout",
          "output_type": "stream",
          "text": [
            " 0.5365597953764683"
          ]
        },
        {
          "metadata": {
            "tags": null
          },
          "name": "stderr",
          "output_type": "stream",
          "text": [
            "Epoch 7/20 --- 354.6s, TLoss: 0.537, TMeanIoU:  0.2336 , Loss: 0.561, MeanIoU:  0.2403, Best_mIoU:  0.2403\n"
          ]
        },
        {
          "metadata": {
            "tags": null
          },
          "name": "stdout",
          "output_type": "stream",
          "text": [
            " 0.5019950412684466"
          ]
        },
        {
          "metadata": {
            "tags": null
          },
          "name": "stderr",
          "output_type": "stream",
          "text": [
            "Epoch 8/20 --- 353.3s, TLoss: 0.502, TMeanIoU:  0.2548 , Loss: 0.503, MeanIoU:  0.2524, Best_mIoU:  0.2524\n"
          ]
        },
        {
          "metadata": {
            "tags": null
          },
          "name": "stdout",
          "output_type": "stream",
          "text": [
            " 0.4909612004712434"
          ]
        },
        {
          "metadata": {
            "tags": null
          },
          "name": "stderr",
          "output_type": "stream",
          "text": [
            "Epoch 9/20 --- 354.5s, TLoss: 0.491, TMeanIoU:  0.2605 , Loss: 0.491, MeanIoU:  0.2563, Best_mIoU:  0.2563\n"
          ]
        },
        {
          "metadata": {
            "tags": null
          },
          "name": "stdout",
          "output_type": "stream",
          "text": [
            " 0.49480763048947746"
          ]
        },
        {
          "metadata": {
            "tags": null
          },
          "name": "stderr",
          "output_type": "stream",
          "text": [
            "Epoch 10/20 --- 356.3s, TLoss: 0.495, TMeanIoU:  0.2619 , Loss: 0.496, MeanIoU:  0.2600, Best_mIoU:  0.2600\n"
          ]
        },
        {
          "metadata": {
            "tags": null
          },
          "name": "stdout",
          "output_type": "stream",
          "text": [
            " 0.4887837419843183"
          ]
        },
        {
          "metadata": {
            "tags": null
          },
          "name": "stderr",
          "output_type": "stream",
          "text": [
            "Epoch 11/20 --- 354.6s, TLoss: 0.489, TMeanIoU:  0.2690 , Loss: 0.509, MeanIoU:  0.2725, Best_mIoU:  0.2725\n"
          ]
        },
        {
          "metadata": {
            "tags": null
          },
          "name": "stdout",
          "output_type": "stream",
          "text": [
            " 0.46840437998505985"
          ]
        },
        {
          "metadata": {
            "tags": null
          },
          "name": "stderr",
          "output_type": "stream",
          "text": [
            "Epoch 12/20 --- 354.3s, TLoss: 0.468, TMeanIoU:  0.2842 , Loss: 0.510, MeanIoU:  0.2504, Best_mIoU:  0.2725\n"
          ]
        },
        {
          "metadata": {
            "tags": null
          },
          "name": "stdout",
          "output_type": "stream",
          "text": [
            " 0.4658607569750039"
          ]
        },
        {
          "metadata": {
            "tags": null
          },
          "name": "stderr",
          "output_type": "stream",
          "text": [
            "Epoch 13/20 --- 354.7s, TLoss: 0.466, TMeanIoU:  0.2916 , Loss: 0.482, MeanIoU:  0.2828, Best_mIoU:  0.2828\n"
          ]
        },
        {
          "metadata": {
            "tags": null
          },
          "name": "stdout",
          "output_type": "stream",
          "text": [
            " 0.4313493309006063"
          ]
        },
        {
          "metadata": {
            "tags": null
          },
          "name": "stderr",
          "output_type": "stream",
          "text": [
            "Epoch 14/20 --- 354.7s, TLoss: 0.431, TMeanIoU:  0.3126 , Loss: 0.421, MeanIoU:  0.3262, Best_mIoU:  0.3262\n"
          ]
        },
        {
          "metadata": {
            "tags": null
          },
          "name": "stdout",
          "output_type": "stream",
          "text": [
            " 0.410879720912762"
          ]
        },
        {
          "metadata": {
            "tags": null
          },
          "name": "stderr",
          "output_type": "stream",
          "text": [
            "Epoch 15/20 --- 352.0s, TLoss: 0.411, TMeanIoU:  0.3262 , Loss: 0.447, MeanIoU:  0.3164, Best_mIoU:  0.3262\n"
          ]
        },
        {
          "metadata": {
            "tags": null
          },
          "name": "stdout",
          "output_type": "stream",
          "text": [
            " 0.3942644638147398"
          ]
        },
        {
          "metadata": {
            "tags": null
          },
          "name": "stderr",
          "output_type": "stream",
          "text": [
            "Epoch 16/20 --- 352.0s, TLoss: 0.394, TMeanIoU:  0.3420 , Loss: 0.428, MeanIoU:  0.3269, Best_mIoU:  0.3269\n"
          ]
        },
        {
          "metadata": {
            "tags": null
          },
          "name": "stdout",
          "output_type": "stream",
          "text": [
            " 0.38898058890680803"
          ]
        },
        {
          "metadata": {
            "tags": null
          },
          "name": "stderr",
          "output_type": "stream",
          "text": [
            "Epoch 17/20 --- 351.5s, TLoss: 0.389, TMeanIoU:  0.3472 , Loss: 0.405, MeanIoU:  0.3423, Best_mIoU:  0.3423\n"
          ]
        },
        {
          "metadata": {
            "tags": null
          },
          "name": "stdout",
          "output_type": "stream",
          "text": [
            " 0.3862410463610329"
          ]
        },
        {
          "metadata": {
            "tags": null
          },
          "name": "stderr",
          "output_type": "stream",
          "text": [
            "Epoch 18/20 --- 351.3s, TLoss: 0.386, TMeanIoU:  0.3515 , Loss: 0.421, MeanIoU:  0.3291, Best_mIoU:  0.3423\n"
          ]
        },
        {
          "metadata": {
            "tags": null
          },
          "name": "stdout",
          "output_type": "stream",
          "text": [
            " 0.39520590172104797"
          ]
        },
        {
          "metadata": {
            "tags": null
          },
          "name": "stderr",
          "output_type": "stream",
          "text": [
            "Epoch 19/20 --- 351.2s, TLoss: 0.395, TMeanIoU:  0.3433 , Loss: 0.417, MeanIoU:  0.3551, Best_mIoU:  0.3551\n"
          ]
        },
        {
          "metadata": {
            "tags": null
          },
          "name": "stdout",
          "output_type": "stream",
          "text": [
            " 0.38670747224195023"
          ]
        },
        {
          "metadata": {
            "tags": null
          },
          "name": "stderr",
          "output_type": "stream",
          "text": [
            "Epoch 20/20 --- 351.8s, TLoss: 0.387, TMeanIoU:  0.3446 , Loss: 0.435, MeanIoU:  0.3173, Best_mIoU:  0.3551\n"
          ]
        },
        {
          "metadata": {
            "tags": null
          },
          "name": "stdout",
          "output_type": "stream",
          "text": [
            " 0.3939858051766012"
          ]
        },
        {
          "metadata": {
            "tags": null
          },
          "name": "stderr",
          "output_type": "stream",
          "text": [
            "Epoch 21/20 --- 351.7s, TLoss: 0.394, TMeanIoU:  0.3447 , Loss: 0.500, MeanIoU:  0.3094, Best_mIoU:  0.3551\n"
          ]
        },
        {
          "metadata": {
            "tags": null
          },
          "name": "stdout",
          "output_type": "stream",
          "text": [
            " 0.3789916094612984"
          ]
        },
        {
          "metadata": {
            "tags": null
          },
          "name": "stderr",
          "output_type": "stream",
          "text": [
            "Epoch 22/20 --- 351.6s, TLoss: 0.379, TMeanIoU:  0.3575 , Loss: 0.398, MeanIoU:  0.3599, Best_mIoU:  0.3599\n"
          ]
        },
        {
          "metadata": {
            "tags": null
          },
          "name": "stdout",
          "output_type": "stream",
          "text": [
            " 0.3596787236301667"
          ]
        },
        {
          "metadata": {
            "tags": null
          },
          "name": "stderr",
          "output_type": "stream",
          "text": [
            "Epoch 23/20 --- 350.6s, TLoss: 0.360, TMeanIoU:  0.3700 , Loss: 0.397, MeanIoU:  0.3504, Best_mIoU:  0.3599\n"
          ]
        },
        {
          "metadata": {
            "tags": null
          },
          "name": "stdout",
          "output_type": "stream",
          "text": [
            " 0.35030405021558186"
          ]
        },
        {
          "metadata": {
            "tags": null
          },
          "name": "stderr",
          "output_type": "stream",
          "text": [
            "Epoch 24/20 --- 351.2s, TLoss: 0.350, TMeanIoU:  0.3817 , Loss: 0.380, MeanIoU:  0.3671, Best_mIoU:  0.3671\n"
          ]
        },
        {
          "metadata": {
            "tags": null
          },
          "name": "stdout",
          "output_type": "stream",
          "text": [
            " 0.3383767463008318"
          ]
        },
        {
          "metadata": {
            "tags": null
          },
          "name": "stderr",
          "output_type": "stream",
          "text": [
            "Epoch 25/20 --- 350.9s, TLoss: 0.338, TMeanIoU:  0.3914 , Loss: 0.381, MeanIoU:  0.3636, Best_mIoU:  0.3671\n"
          ]
        },
        {
          "metadata": {
            "tags": null
          },
          "name": "stdout",
          "output_type": "stream",
          "text": [
            " 0.3390994411954501"
          ]
        },
        {
          "metadata": {
            "tags": null
          },
          "name": "stderr",
          "output_type": "stream",
          "text": [
            "Epoch 26/20 --- 353.0s, TLoss: 0.339, TMeanIoU:  0.3952 , Loss: 0.390, MeanIoU:  0.3702, Best_mIoU:  0.3702\n"
          ]
        },
        {
          "metadata": {
            "tags": null
          },
          "name": "stdout",
          "output_type": "stream",
          "text": [
            " 0.34118626794126805"
          ]
        },
        {
          "metadata": {
            "tags": null
          },
          "name": "stderr",
          "output_type": "stream",
          "text": [
            "Epoch 27/20 --- 352.0s, TLoss: 0.341, TMeanIoU:  0.3882 , Loss: 0.371, MeanIoU:  0.3633, Best_mIoU:  0.3702\n"
          ]
        },
        {
          "metadata": {
            "tags": null
          },
          "name": "stdout",
          "output_type": "stream",
          "text": [
            " 0.3361230073753561"
          ]
        },
        {
          "metadata": {
            "tags": null
          },
          "name": "stderr",
          "output_type": "stream",
          "text": [
            "Epoch 28/20 --- 350.8s, TLoss: 0.336, TMeanIoU:  0.3885 , Loss: 0.399, MeanIoU:  0.3520, Best_mIoU:  0.3702\n"
          ]
        },
        {
          "metadata": {
            "tags": null
          },
          "name": "stdout",
          "output_type": "stream",
          "text": [
            " 0.3301386040676356"
          ]
        },
        {
          "metadata": {
            "tags": null
          },
          "name": "stderr",
          "output_type": "stream",
          "text": [
            "Epoch 29/20 --- 351.3s, TLoss: 0.330, TMeanIoU:  0.3924 , Loss: 0.403, MeanIoU:  0.3394, Best_mIoU:  0.3702\n"
          ]
        },
        {
          "metadata": {
            "tags": null
          },
          "name": "stdout",
          "output_type": "stream",
          "text": [
            " 0.3265427987168867"
          ]
        },
        {
          "metadata": {
            "tags": null
          },
          "name": "stderr",
          "output_type": "stream",
          "text": [
            "Epoch 30/20 --- 351.0s, TLoss: 0.327, TMeanIoU:  0.3959 , Loss: 0.387, MeanIoU:  0.3729, Best_mIoU:  0.3729\n"
          ]
        },
        {
          "metadata": {
            "tags": null
          },
          "name": "stdout",
          "output_type": "stream",
          "text": [
            " 0.32511954051209624"
          ]
        },
        {
          "metadata": {
            "tags": null
          },
          "name": "stderr",
          "output_type": "stream",
          "text": [
            "Epoch 31/20 --- 353.2s, TLoss: 0.325, TMeanIoU:  0.4039 , Loss: 0.363, MeanIoU:  0.3842, Best_mIoU:  0.3842\n"
          ]
        },
        {
          "metadata": {
            "tags": null
          },
          "name": "stdout",
          "output_type": "stream",
          "text": [
            " 0.29398190063065466"
          ]
        },
        {
          "metadata": {
            "tags": null
          },
          "name": "stderr",
          "output_type": "stream",
          "text": [
            "Epoch 32/20 --- 350.0s, TLoss: 0.294, TMeanIoU:  0.4292 , Loss: 0.351, MeanIoU:  0.3750, Best_mIoU:  0.3842\n"
          ]
        },
        {
          "metadata": {
            "tags": null
          },
          "name": "stdout",
          "output_type": "stream",
          "text": [
            " 0.3013662053732432"
          ]
        },
        {
          "metadata": {
            "tags": null
          },
          "name": "stderr",
          "output_type": "stream",
          "text": [
            "Epoch 33/20 --- 349.0s, TLoss: 0.301, TMeanIoU:  0.4304 , Loss: 0.378, MeanIoU:  0.3831, Best_mIoU:  0.3842\n"
          ]
        },
        {
          "metadata": {
            "tags": null
          },
          "name": "stdout",
          "output_type": "stream",
          "text": [
            " 0.295828488118522"
          ]
        },
        {
          "metadata": {
            "tags": null
          },
          "name": "stderr",
          "output_type": "stream",
          "text": [
            "Epoch 34/20 --- 349.7s, TLoss: 0.296, TMeanIoU:  0.4342 , Loss: 0.363, MeanIoU:  0.3761, Best_mIoU:  0.3842\n"
          ]
        },
        {
          "metadata": {
            "tags": null
          },
          "name": "stdout",
          "output_type": "stream",
          "text": [
            " 0.30068152915518853"
          ]
        },
        {
          "metadata": {
            "tags": null
          },
          "name": "stderr",
          "output_type": "stream",
          "text": [
            "Epoch 35/20 --- 349.3s, TLoss: 0.301, TMeanIoU:  0.4285 , Loss: 0.388, MeanIoU:  0.3650, Best_mIoU:  0.3842\n"
          ]
        },
        {
          "metadata": {
            "tags": null
          },
          "name": "stdout",
          "output_type": "stream",
          "text": [
            " 0.2899801823062047"
          ]
        },
        {
          "metadata": {
            "tags": null
          },
          "name": "stderr",
          "output_type": "stream",
          "text": [
            "Epoch 36/20 --- 352.1s, TLoss: 0.290, TMeanIoU:  0.4346 , Loss: 0.390, MeanIoU:  0.3531, Best_mIoU:  0.3842\n"
          ]
        },
        {
          "metadata": {
            "tags": null
          },
          "name": "stdout",
          "output_type": "stream",
          "text": [
            " 0.31283776317265755"
          ]
        },
        {
          "metadata": {
            "tags": null
          },
          "name": "stderr",
          "output_type": "stream",
          "text": [
            "Epoch 37/20 --- 351.7s, TLoss: 0.313, TMeanIoU:  0.4177 , Loss: 0.341, MeanIoU:  0.3945, Best_mIoU:  0.3945\n"
          ]
        },
        {
          "metadata": {
            "tags": null
          },
          "name": "stdout",
          "output_type": "stream",
          "text": [
            " 0.30286638565971624"
          ]
        },
        {
          "metadata": {
            "tags": null
          },
          "name": "stderr",
          "output_type": "stream",
          "text": [
            "Epoch 38/20 --- 351.3s, TLoss: 0.303, TMeanIoU:  0.4302 , Loss: 0.363, MeanIoU:  0.3725, Best_mIoU:  0.3945\n"
          ]
        },
        {
          "metadata": {
            "tags": null
          },
          "name": "stdout",
          "output_type": "stream",
          "text": [
            " 0.2958190765682297"
          ]
        },
        {
          "metadata": {
            "tags": null
          },
          "name": "stderr",
          "output_type": "stream",
          "text": [
            "Epoch 39/20 --- 349.8s, TLoss: 0.296, TMeanIoU:  0.4412 , Loss: 0.340, MeanIoU:  0.3972, Best_mIoU:  0.3972\n"
          ]
        },
        {
          "metadata": {
            "tags": null
          },
          "name": "stdout",
          "output_type": "stream",
          "text": [
            " 0.29650103828245"
          ]
        },
        {
          "metadata": {
            "tags": null
          },
          "name": "stderr",
          "output_type": "stream",
          "text": [
            "Epoch 40/20 --- 351.1s, TLoss: 0.297, TMeanIoU:  0.4422 , Loss: 0.358, MeanIoU:  0.3890, Best_mIoU:  0.3972\n"
          ]
        },
        {
          "metadata": {
            "tags": null
          },
          "name": "stdout",
          "output_type": "stream",
          "text": [
            " 0.27644768215777693"
          ]
        },
        {
          "metadata": {
            "tags": null
          },
          "name": "stderr",
          "output_type": "stream",
          "text": [
            "Epoch 41/20 --- 352.6s, TLoss: 0.276, TMeanIoU:  0.4534 , Loss: 0.343, MeanIoU:  0.3847, Best_mIoU:  0.3972\n"
          ]
        },
        {
          "metadata": {
            "tags": null
          },
          "name": "stdout",
          "output_type": "stream",
          "text": [
            " 0.2697778136495629"
          ]
        },
        {
          "metadata": {
            "tags": null
          },
          "name": "stderr",
          "output_type": "stream",
          "text": [
            "Epoch 42/20 --- 351.3s, TLoss: 0.270, TMeanIoU:  0.4632 , Loss: 0.352, MeanIoU:  0.4013, Best_mIoU:  0.4013\n"
          ]
        },
        {
          "metadata": {
            "tags": null
          },
          "name": "stdout",
          "output_type": "stream",
          "text": [
            " 0.2741411085510428"
          ]
        },
        {
          "metadata": {
            "tags": null
          },
          "name": "stderr",
          "output_type": "stream",
          "text": [
            "Epoch 43/20 --- 352.1s, TLoss: 0.274, TMeanIoU:  0.4591 , Loss: 0.354, MeanIoU:  0.3864, Best_mIoU:  0.4013\n"
          ]
        },
        {
          "metadata": {
            "tags": null
          },
          "name": "stdout",
          "output_type": "stream",
          "text": [
            " 0.2742696595133932"
          ]
        },
        {
          "metadata": {
            "tags": null
          },
          "name": "stderr",
          "output_type": "stream",
          "text": [
            "Epoch 44/20 --- 351.3s, TLoss: 0.274, TMeanIoU:  0.4529 , Loss: 0.365, MeanIoU:  0.3684, Best_mIoU:  0.4013\n"
          ]
        },
        {
          "metadata": {
            "tags": null
          },
          "name": "stdout",
          "output_type": "stream",
          "text": [
            " 0.2727273950862455"
          ]
        },
        {
          "metadata": {
            "tags": null
          },
          "name": "stderr",
          "output_type": "stream",
          "text": [
            "Epoch 45/20 --- 351.2s, TLoss: 0.273, TMeanIoU:  0.4588 , Loss: 0.347, MeanIoU:  0.3920, Best_mIoU:  0.4013\n"
          ]
        },
        {
          "metadata": {
            "tags": null
          },
          "name": "stdout",
          "output_type": "stream",
          "text": [
            " 0.2861541668503009"
          ]
        },
        {
          "metadata": {
            "tags": null
          },
          "name": "stderr",
          "output_type": "stream",
          "text": [
            "Epoch 46/20 --- 351.7s, TLoss: 0.286, TMeanIoU:  0.4470 , Loss: 0.347, MeanIoU:  0.3762, Best_mIoU:  0.4013\n"
          ]
        },
        {
          "metadata": {
            "tags": null
          },
          "name": "stdout",
          "output_type": "stream",
          "text": [
            " 0.2767122193196073"
          ]
        },
        {
          "metadata": {
            "tags": null
          },
          "name": "stderr",
          "output_type": "stream",
          "text": [
            "Epoch 47/20 --- 351.6s, TLoss: 0.277, TMeanIoU:  0.4564 , Loss: 0.356, MeanIoU:  0.3713, Best_mIoU:  0.4013\n"
          ]
        },
        {
          "metadata": {
            "tags": null
          },
          "name": "stdout",
          "output_type": "stream",
          "text": [
            " 0.2653774027459708"
          ]
        },
        {
          "metadata": {
            "tags": null
          },
          "name": "stderr",
          "output_type": "stream",
          "text": [
            "Epoch 48/20 --- 351.1s, TLoss: 0.265, TMeanIoU:  0.4686 , Loss: 0.362, MeanIoU:  0.3804, Best_mIoU:  0.4013\n"
          ]
        },
        {
          "metadata": {
            "tags": null
          },
          "name": "stdout",
          "output_type": "stream",
          "text": [
            " 0.25182939875541777"
          ]
        },
        {
          "metadata": {
            "tags": null
          },
          "name": "stderr",
          "output_type": "stream",
          "text": [
            "Epoch 49/20 --- 352.6s, TLoss: 0.252, TMeanIoU:  0.4844 , Loss: 0.345, MeanIoU:  0.3756, Best_mIoU:  0.4013\n"
          ]
        },
        {
          "metadata": {
            "tags": null
          },
          "name": "stdout",
          "output_type": "stream",
          "text": [
            " 0.24227738337588942"
          ]
        },
        {
          "metadata": {
            "tags": null
          },
          "name": "stderr",
          "output_type": "stream",
          "text": [
            "Epoch 50/20 --- 355.1s, TLoss: 0.242, TMeanIoU:  0.4951 , Loss: 0.317, MeanIoU:  0.4128, Best_mIoU:  0.4128\n"
          ]
        },
        {
          "metadata": {
            "tags": null
          },
          "name": "stdout",
          "output_type": "stream",
          "text": [
            " 0.24407650105623607"
          ]
        },
        {
          "metadata": {
            "tags": null
          },
          "name": "stderr",
          "output_type": "stream",
          "text": [
            "Epoch 51/20 --- 355.0s, TLoss: 0.244, TMeanIoU:  0.4890 , Loss: 0.343, MeanIoU:  0.3977, Best_mIoU:  0.4128\n"
          ]
        },
        {
          "metadata": {
            "tags": null
          },
          "name": "stdout",
          "output_type": "stream",
          "text": [
            " 0.24739915573141516"
          ]
        },
        {
          "metadata": {
            "tags": null
          },
          "name": "stderr",
          "output_type": "stream",
          "text": [
            "Epoch 52/20 --- 351.9s, TLoss: 0.247, TMeanIoU:  0.4864 , Loss: 0.324, MeanIoU:  0.3824, Best_mIoU:  0.4128\n"
          ]
        },
        {
          "metadata": {
            "tags": null
          },
          "name": "stdout",
          "output_type": "stream",
          "text": [
            " 0.25201733765416773"
          ]
        },
        {
          "metadata": {
            "tags": null
          },
          "name": "stderr",
          "output_type": "stream",
          "text": [
            "Epoch 53/20 --- 352.2s, TLoss: 0.252, TMeanIoU:  0.4863 , Loss: 0.353, MeanIoU:  0.3863, Best_mIoU:  0.4128\n"
          ]
        },
        {
          "metadata": {
            "tags": null
          },
          "name": "stdout",
          "output_type": "stream",
          "text": [
            " 0.2551304147111226"
          ]
        },
        {
          "metadata": {
            "tags": null
          },
          "name": "stderr",
          "output_type": "stream",
          "text": [
            "Epoch 54/20 --- 352.0s, TLoss: 0.255, TMeanIoU:  0.4812 , Loss: 0.337, MeanIoU:  0.4050, Best_mIoU:  0.4128\n"
          ]
        },
        {
          "metadata": {
            "tags": null
          },
          "name": "stdout",
          "output_type": "stream",
          "text": [
            " 0.2509968178240938"
          ]
        },
        {
          "metadata": {
            "tags": null
          },
          "name": "stderr",
          "output_type": "stream",
          "text": [
            "Epoch 55/20 --- 351.7s, TLoss: 0.251, TMeanIoU:  0.4830 , Loss: 0.344, MeanIoU:  0.4072, Best_mIoU:  0.4128\n"
          ]
        },
        {
          "metadata": {
            "tags": null
          },
          "name": "stdout",
          "output_type": "stream",
          "text": [
            " 0.25430050006399163"
          ]
        },
        {
          "metadata": {
            "tags": null
          },
          "name": "stderr",
          "output_type": "stream",
          "text": [
            "Epoch 56/20 --- 351.5s, TLoss: 0.254, TMeanIoU:  0.4894 , Loss: 0.338, MeanIoU:  0.3932, Best_mIoU:  0.4128\n"
          ]
        },
        {
          "metadata": {
            "tags": null
          },
          "name": "stdout",
          "output_type": "stream",
          "text": [
            " 0.2293915555214952"
          ]
        },
        {
          "metadata": {
            "tags": null
          },
          "name": "stderr",
          "output_type": "stream",
          "text": [
            "Epoch 57/20 --- 352.7s, TLoss: 0.229, TMeanIoU:  0.5057 , Loss: 0.337, MeanIoU:  0.4015, Best_mIoU:  0.4128\n"
          ]
        },
        {
          "metadata": {
            "tags": null
          },
          "name": "stdout",
          "output_type": "stream",
          "text": [
            " 0.21265386671239575"
          ]
        },
        {
          "metadata": {
            "tags": null
          },
          "name": "stderr",
          "output_type": "stream",
          "text": [
            "Epoch 58/20 --- 351.8s, TLoss: 0.213, TMeanIoU:  0.5250 , Loss: 0.342, MeanIoU:  0.3980, Best_mIoU:  0.4128\n"
          ]
        },
        {
          "metadata": {
            "tags": null
          },
          "name": "stdout",
          "output_type": "stream",
          "text": [
            " 0.23020136772048133"
          ]
        },
        {
          "metadata": {
            "tags": null
          },
          "name": "stderr",
          "output_type": "stream",
          "text": [
            "Epoch 59/20 --- 352.4s, TLoss: 0.230, TMeanIoU:  0.5195 , Loss: 0.326, MeanIoU:  0.3942, Best_mIoU:  0.4128\n"
          ]
        },
        {
          "metadata": {
            "tags": null
          },
          "name": "stdout",
          "output_type": "stream",
          "text": [
            " 0.2256133253274904"
          ]
        },
        {
          "metadata": {
            "tags": null
          },
          "name": "stderr",
          "output_type": "stream",
          "text": [
            "Epoch 60/20 --- 351.7s, TLoss: 0.226, TMeanIoU:  0.5132 , Loss: 0.320, MeanIoU:  0.4040, Best_mIoU:  0.4128\n"
          ]
        },
        {
          "metadata": {
            "tags": null
          },
          "name": "stdout",
          "output_type": "stream",
          "text": [
            " 0.23534595031107855"
          ]
        },
        {
          "metadata": {
            "tags": null
          },
          "name": "stderr",
          "output_type": "stream",
          "text": [
            "Epoch 61/20 --- 352.0s, TLoss: 0.235, TMeanIoU:  0.4962 , Loss: 0.316, MeanIoU:  0.4102, Best_mIoU:  0.4128\n"
          ]
        },
        {
          "metadata": {
            "tags": null
          },
          "name": "stdout",
          "output_type": "stream",
          "text": [
            " 0.2366852557029387"
          ]
        },
        {
          "metadata": {
            "tags": null
          },
          "name": "stderr",
          "output_type": "stream",
          "text": [
            "Epoch 62/20 --- 352.0s, TLoss: 0.237, TMeanIoU:  0.4992 , Loss: 0.326, MeanIoU:  0.4174, Best_mIoU:  0.4174\n"
          ]
        },
        {
          "metadata": {
            "tags": null
          },
          "name": "stdout",
          "output_type": "stream",
          "text": [
            " 0.23404929359789287"
          ]
        },
        {
          "metadata": {
            "tags": null
          },
          "name": "stderr",
          "output_type": "stream",
          "text": [
            "Epoch 63/20 --- 351.6s, TLoss: 0.234, TMeanIoU:  0.5025 , Loss: 0.339, MeanIoU:  0.3939, Best_mIoU:  0.4174\n"
          ]
        },
        {
          "metadata": {
            "tags": null
          },
          "name": "stdout",
          "output_type": "stream",
          "text": [
            " 0.22937111916503558"
          ]
        },
        {
          "metadata": {
            "tags": null
          },
          "name": "stderr",
          "output_type": "stream",
          "text": [
            "Epoch 64/20 --- 351.4s, TLoss: 0.229, TMeanIoU:  0.5034 , Loss: 0.334, MeanIoU:  0.4067, Best_mIoU:  0.4174\n"
          ]
        },
        {
          "metadata": {
            "tags": null
          },
          "name": "stdout",
          "output_type": "stream",
          "text": [
            " 0.2240033296766007"
          ]
        },
        {
          "metadata": {
            "tags": null
          },
          "name": "stderr",
          "output_type": "stream",
          "text": [
            "Epoch 65/20 --- 351.2s, TLoss: 0.224, TMeanIoU:  0.5158 , Loss: 0.317, MeanIoU:  0.4126, Best_mIoU:  0.4174\n"
          ]
        },
        {
          "metadata": {
            "tags": null
          },
          "name": "stdout",
          "output_type": "stream",
          "text": [
            " 0.21551521957956296"
          ]
        },
        {
          "metadata": {
            "tags": null
          },
          "name": "stderr",
          "output_type": "stream",
          "text": [
            "Epoch 66/20 --- 351.2s, TLoss: 0.216, TMeanIoU:  0.5260 , Loss: 0.338, MeanIoU:  0.3957, Best_mIoU:  0.4174\n"
          ]
        },
        {
          "metadata": {
            "tags": null
          },
          "name": "stdout",
          "output_type": "stream",
          "text": [
            " 0.20188850135080835"
          ]
        },
        {
          "metadata": {
            "tags": null
          },
          "name": "stderr",
          "output_type": "stream",
          "text": [
            "Epoch 67/20 --- 352.1s, TLoss: 0.202, TMeanIoU:  0.5417 , Loss: 0.348, MeanIoU:  0.3895, Best_mIoU:  0.4174\n"
          ]
        },
        {
          "metadata": {
            "tags": null
          },
          "name": "stdout",
          "output_type": "stream",
          "text": [
            " 0.20778156261211933"
          ]
        },
        {
          "metadata": {
            "tags": null
          },
          "name": "stderr",
          "output_type": "stream",
          "text": [
            "Epoch 68/20 --- 351.3s, TLoss: 0.208, TMeanIoU:  0.5302 , Loss: 0.359, MeanIoU:  0.3918, Best_mIoU:  0.4174\n"
          ]
        },
        {
          "metadata": {
            "tags": null
          },
          "name": "stdout",
          "output_type": "stream",
          "text": [
            " 0.22199858007874618"
          ]
        },
        {
          "metadata": {
            "tags": null
          },
          "name": "stderr",
          "output_type": "stream",
          "text": [
            "Epoch 69/20 --- 351.7s, TLoss: 0.222, TMeanIoU:  0.5213 , Loss: 0.337, MeanIoU:  0.4068, Best_mIoU:  0.4174\n"
          ]
        },
        {
          "metadata": {
            "tags": null
          },
          "name": "stdout",
          "output_type": "stream",
          "text": [
            " 0.21608764142969725"
          ]
        },
        {
          "metadata": {
            "tags": null
          },
          "name": "stderr",
          "output_type": "stream",
          "text": [
            "Epoch 70/20 --- 351.5s, TLoss: 0.216, TMeanIoU:  0.5198 , Loss: 0.374, MeanIoU:  0.3551, Best_mIoU:  0.4174\n"
          ]
        },
        {
          "metadata": {
            "tags": null
          },
          "name": "stdout",
          "output_type": "stream",
          "text": [
            " 0.22641002666240953"
          ]
        },
        {
          "metadata": {
            "tags": null
          },
          "name": "stderr",
          "output_type": "stream",
          "text": [
            "Epoch 71/20 --- 350.8s, TLoss: 0.226, TMeanIoU:  0.5119 , Loss: 0.356, MeanIoU:  0.3864, Best_mIoU:  0.4174\n"
          ]
        },
        {
          "metadata": {
            "tags": null
          },
          "name": "stdout",
          "output_type": "stream",
          "text": [
            " 0.21560878888719606"
          ]
        },
        {
          "metadata": {
            "tags": null
          },
          "name": "stderr",
          "output_type": "stream",
          "text": [
            "Epoch 72/20 --- 351.5s, TLoss: 0.216, TMeanIoU:  0.5240 , Loss: 0.321, MeanIoU:  0.4104, Best_mIoU:  0.4174\n"
          ]
        },
        {
          "metadata": {
            "tags": null
          },
          "name": "stdout",
          "output_type": "stream",
          "text": [
            " 0.20355407327258185"
          ]
        },
        {
          "metadata": {
            "tags": null
          },
          "name": "stderr",
          "output_type": "stream",
          "text": [
            "Epoch 73/20 --- 351.6s, TLoss: 0.204, TMeanIoU:  0.5379 , Loss: 0.332, MeanIoU:  0.4131, Best_mIoU:  0.4174\n"
          ]
        },
        {
          "metadata": {
            "tags": null
          },
          "name": "stdout",
          "output_type": "stream",
          "text": [
            " 0.19411938480684204"
          ]
        },
        {
          "metadata": {
            "tags": null
          },
          "name": "stderr",
          "output_type": "stream",
          "text": [
            "Epoch 74/20 --- 351.2s, TLoss: 0.194, TMeanIoU:  0.5479 , Loss: 0.318, MeanIoU:  0.4191, Best_mIoU:  0.4191\n"
          ]
        },
        {
          "metadata": {
            "tags": null
          },
          "name": "stdout",
          "output_type": "stream",
          "text": [
            " 0.20050065075298348"
          ]
        },
        {
          "metadata": {
            "tags": null
          },
          "name": "stderr",
          "output_type": "stream",
          "text": [
            "Epoch 75/20 --- 351.5s, TLoss: 0.201, TMeanIoU:  0.5464 , Loss: 0.324, MeanIoU:  0.4053, Best_mIoU:  0.4191\n"
          ]
        },
        {
          "metadata": {
            "tags": null
          },
          "name": "stdout",
          "output_type": "stream",
          "text": [
            " 0.20758536104955377"
          ]
        },
        {
          "metadata": {
            "tags": null
          },
          "name": "stderr",
          "output_type": "stream",
          "text": [
            "Epoch 76/20 --- 351.5s, TLoss: 0.208, TMeanIoU:  0.5366 , Loss: 0.335, MeanIoU:  0.4030, Best_mIoU:  0.4191\n"
          ]
        },
        {
          "metadata": {
            "tags": null
          },
          "name": "stdout",
          "output_type": "stream",
          "text": [
            " 0.20177482016539275"
          ]
        },
        {
          "metadata": {
            "tags": null
          },
          "name": "stderr",
          "output_type": "stream",
          "text": [
            "Epoch 77/20 --- 352.3s, TLoss: 0.202, TMeanIoU:  0.5383 , Loss: 0.341, MeanIoU:  0.3921, Best_mIoU:  0.4191\n"
          ]
        },
        {
          "metadata": {
            "tags": null
          },
          "name": "stdout",
          "output_type": "stream",
          "text": [
            " 0.21940262656087534"
          ]
        },
        {
          "metadata": {
            "tags": null
          },
          "name": "stderr",
          "output_type": "stream",
          "text": [
            "Epoch 78/20 --- 351.0s, TLoss: 0.219, TMeanIoU:  0.5250 , Loss: 0.358, MeanIoU:  0.3859, Best_mIoU:  0.4191\n"
          ]
        },
        {
          "metadata": {
            "tags": null
          },
          "name": "stdout",
          "output_type": "stream",
          "text": [
            " 0.20211327528760498"
          ]
        },
        {
          "metadata": {
            "tags": null
          },
          "name": "stderr",
          "output_type": "stream",
          "text": [
            "Epoch 79/20 --- 351.5s, TLoss: 0.202, TMeanIoU:  0.5362 , Loss: 0.327, MeanIoU:  0.4116, Best_mIoU:  0.4191\n"
          ]
        },
        {
          "metadata": {
            "tags": null
          },
          "name": "stdout",
          "output_type": "stream",
          "text": [
            " 0.2084268300544584"
          ]
        },
        {
          "metadata": {
            "tags": null
          },
          "name": "stderr",
          "output_type": "stream",
          "text": [
            "Epoch 80/20 --- 350.7s, TLoss: 0.208, TMeanIoU:  0.5312 , Loss: 0.321, MeanIoU:  0.4055, Best_mIoU:  0.4191\n"
          ]
        },
        {
          "output_type": "stream",
          "name": "stdout",
          "text": [
            " 0.21024661406688136"
          ]
        },
        {
          "output_type": "stream",
          "name": "stderr",
          "text": [
            "Epoch 81/20 --- 352.0s, TLoss: 0.210, TMeanIoU:  0.5367 , Loss: 0.318, MeanIoU:  0.4034, Best_mIoU:  0.4191\n"
          ]
        },
        {
          "output_type": "stream",
          "name": "stdout",
          "text": [
            " 0.19333327045089577"
          ]
        },
        {
          "output_type": "stream",
          "name": "stderr",
          "text": [
            "Epoch 82/20 --- 352.2s, TLoss: 0.193, TMeanIoU:  0.5572 , Loss: 0.322, MeanIoU:  0.4107, Best_mIoU:  0.4191\n"
          ]
        },
        {
          "output_type": "stream",
          "name": "stdout",
          "text": [
            " 0.18545074263968633"
          ]
        },
        {
          "output_type": "stream",
          "name": "stderr",
          "text": [
            "Epoch 83/20 --- 350.8s, TLoss: 0.185, TMeanIoU:  0.5610 , Loss: 0.340, MeanIoU:  0.3992, Best_mIoU:  0.4191\n"
          ]
        },
        {
          "output_type": "stream",
          "name": "stdout",
          "text": [
            " 0.18973648074442423"
          ]
        },
        {
          "output_type": "stream",
          "name": "stderr",
          "text": [
            "Epoch 84/20 --- 353.0s, TLoss: 0.190, TMeanIoU:  0.5616 , Loss: 0.326, MeanIoU:  0.4174, Best_mIoU:  0.4191\n"
          ]
        },
        {
          "output_type": "stream",
          "name": "stdout",
          "text": [
            " 0.20235825631802398"
          ]
        },
        {
          "output_type": "stream",
          "name": "stderr",
          "text": [
            "Epoch 85/20 --- 351.7s, TLoss: 0.202, TMeanIoU:  0.5443 , Loss: 0.324, MeanIoU:  0.4084, Best_mIoU:  0.4191\n"
          ]
        },
        {
          "output_type": "stream",
          "name": "stdout",
          "text": [
            " 0.19603612260041609"
          ]
        },
        {
          "output_type": "stream",
          "name": "stderr",
          "text": [
            "Epoch 86/20 --- 354.9s, TLoss: 0.196, TMeanIoU:  0.5502 , Loss: 0.321, MeanIoU:  0.4098, Best_mIoU:  0.4191\n"
          ]
        },
        {
          "output_type": "stream",
          "name": "stdout",
          "text": [
            " 0.19596703129250623"
          ]
        },
        {
          "output_type": "stream",
          "name": "stderr",
          "text": [
            "Epoch 87/20 --- 355.3s, TLoss: 0.196, TMeanIoU:  0.5459 , Loss: 0.345, MeanIoU:  0.3744, Best_mIoU:  0.4191\n"
          ]
        },
        {
          "output_type": "stream",
          "name": "stdout",
          "text": [
            " 0.1873754104525448"
          ]
        },
        {
          "output_type": "stream",
          "name": "stderr",
          "text": [
            "Epoch 88/20 --- 354.2s, TLoss: 0.187, TMeanIoU:  0.5505 , Loss: 0.318, MeanIoU:  0.4208, Best_mIoU:  0.4208\n"
          ]
        },
        {
          "output_type": "stream",
          "name": "stdout",
          "text": [
            " 0.1985054601169445"
          ]
        },
        {
          "output_type": "stream",
          "name": "stderr",
          "text": [
            "Epoch 89/20 --- 355.3s, TLoss: 0.199, TMeanIoU:  0.5474 , Loss: 0.314, MeanIoU:  0.4112, Best_mIoU:  0.4208\n"
          ]
        },
        {
          "output_type": "stream",
          "name": "stdout",
          "text": [
            " 0.19025130969882093"
          ]
        },
        {
          "output_type": "stream",
          "name": "stderr",
          "text": [
            "Epoch 90/20 --- 351.4s, TLoss: 0.190, TMeanIoU:  0.5644 , Loss: 0.288, MeanIoU:  0.4389, Best_mIoU:  0.4389\n"
          ]
        },
        {
          "output_type": "stream",
          "name": "stdout",
          "text": [
            " 0.18435181885957302"
          ]
        },
        {
          "output_type": "stream",
          "name": "stderr",
          "text": [
            "Epoch 91/20 --- 351.9s, TLoss: 0.184, TMeanIoU:  0.5694 , Loss: 0.310, MeanIoU:  0.4144, Best_mIoU:  0.4389\n"
          ]
        },
        {
          "output_type": "stream",
          "name": "stdout",
          "text": [
            " 0.17761683935440062"
          ]
        },
        {
          "output_type": "stream",
          "name": "stderr",
          "text": [
            "Epoch 92/20 --- 352.5s, TLoss: 0.178, TMeanIoU:  0.5721 , Loss: 0.320, MeanIoU:  0.4234, Best_mIoU:  0.4389\n"
          ]
        },
        {
          "output_type": "stream",
          "name": "stdout",
          "text": [
            " 0.18447947101178094"
          ]
        },
        {
          "output_type": "stream",
          "name": "stderr",
          "text": [
            "Epoch 93/20 --- 352.1s, TLoss: 0.184, TMeanIoU:  0.5663 , Loss: 0.332, MeanIoU:  0.3996, Best_mIoU:  0.4389\n"
          ]
        },
        {
          "output_type": "stream",
          "name": "stdout",
          "text": [
            " 0.18803223759246462"
          ]
        },
        {
          "output_type": "stream",
          "name": "stderr",
          "text": [
            "Epoch 94/20 --- 351.5s, TLoss: 0.188, TMeanIoU:  0.5542 , Loss: 0.303, MeanIoU:  0.4301, Best_mIoU:  0.4389\n"
          ]
        },
        {
          "output_type": "stream",
          "name": "stdout",
          "text": [
            " 0.20035328033021294"
          ]
        },
        {
          "output_type": "stream",
          "name": "stderr",
          "text": [
            "Epoch 95/20 --- 352.2s, TLoss: 0.200, TMeanIoU:  0.5415 , Loss: 0.344, MeanIoU:  0.3831, Best_mIoU:  0.4389\n"
          ]
        },
        {
          "output_type": "stream",
          "name": "stdout",
          "text": [
            " 0.18890786274427626"
          ]
        },
        {
          "output_type": "stream",
          "name": "stderr",
          "text": [
            "Epoch 96/20 --- 351.4s, TLoss: 0.189, TMeanIoU:  0.5542 , Loss: 0.305, MeanIoU:  0.4245, Best_mIoU:  0.4389\n"
          ]
        },
        {
          "output_type": "stream",
          "name": "stdout",
          "text": [
            " 0.19218604888550958"
          ]
        },
        {
          "output_type": "stream",
          "name": "stderr",
          "text": [
            "Epoch 97/20 --- 351.1s, TLoss: 0.192, TMeanIoU:  0.5570 , Loss: 0.327, MeanIoU:  0.4020, Best_mIoU:  0.4389\n"
          ]
        },
        {
          "output_type": "stream",
          "name": "stdout",
          "text": [
            " 0.18272182172840004"
          ]
        },
        {
          "output_type": "stream",
          "name": "stderr",
          "text": [
            "Epoch 98/20 --- 352.1s, TLoss: 0.183, TMeanIoU:  0.5681 , Loss: 0.327, MeanIoU:  0.4010, Best_mIoU:  0.4389\n"
          ]
        },
        {
          "output_type": "stream",
          "name": "stdout",
          "text": [
            " 0.17368177715224112"
          ]
        },
        {
          "output_type": "stream",
          "name": "stderr",
          "text": [
            "Epoch 99/20 --- 350.8s, TLoss: 0.174, TMeanIoU:  0.5846 , Loss: 0.314, MeanIoU:  0.4258, Best_mIoU:  0.4389\n"
          ]
        },
        {
          "output_type": "stream",
          "name": "stdout",
          "text": [
            " 0.17165205470335138"
          ]
        },
        {
          "output_type": "stream",
          "name": "stderr",
          "text": [
            "Epoch 100/20 --- 351.6s, TLoss: 0.172, TMeanIoU:  0.5875 , Loss: 0.325, MeanIoU:  0.3939, Best_mIoU:  0.4389\n"
          ]
        },
        {
          "output_type": "stream",
          "name": "stdout",
          "text": [
            " 0.17371455249706452"
          ]
        },
        {
          "output_type": "stream",
          "name": "stderr",
          "text": [
            "Epoch 101/20 --- 350.9s, TLoss: 0.174, TMeanIoU:  0.5807 , Loss: 0.316, MeanIoU:  0.4177, Best_mIoU:  0.4389\n"
          ]
        },
        {
          "output_type": "stream",
          "name": "stdout",
          "text": [
            " 0.18345778690719589"
          ]
        },
        {
          "output_type": "stream",
          "name": "stderr",
          "text": [
            "Epoch 102/20 --- 351.6s, TLoss: 0.183, TMeanIoU:  0.5654 , Loss: 0.284, MeanIoU:  0.4292, Best_mIoU:  0.4389\n"
          ]
        },
        {
          "output_type": "stream",
          "name": "stdout",
          "text": [
            " 0.17926969802323894"
          ]
        },
        {
          "output_type": "stream",
          "name": "stderr",
          "text": [
            "Epoch 103/20 --- 350.6s, TLoss: 0.179, TMeanIoU:  0.5683 , Loss: 0.317, MeanIoU:  0.4318, Best_mIoU:  0.4389\n"
          ]
        },
        {
          "output_type": "stream",
          "name": "stdout",
          "text": [
            " 0.1832531705195874"
          ]
        },
        {
          "output_type": "stream",
          "name": "stderr",
          "text": [
            "Epoch 104/20 --- 352.5s, TLoss: 0.183, TMeanIoU:  0.5576 , Loss: 0.312, MeanIoU:  0.4048, Best_mIoU:  0.4389\n"
          ]
        },
        {
          "output_type": "stream",
          "name": "stdout",
          "text": [
            " 0.18719840128260667"
          ]
        },
        {
          "output_type": "stream",
          "name": "stderr",
          "text": [
            "Epoch 105/20 --- 351.4s, TLoss: 0.187, TMeanIoU:  0.5589 , Loss: 0.325, MeanIoU:  0.4091, Best_mIoU:  0.4389\n"
          ]
        },
        {
          "output_type": "stream",
          "name": "stdout",
          "text": [
            " 0.18519409747243457"
          ]
        },
        {
          "output_type": "stream",
          "name": "stderr",
          "text": [
            "Epoch 106/20 --- 352.2s, TLoss: 0.185, TMeanIoU:  0.5686 , Loss: 0.334, MeanIoU:  0.3960, Best_mIoU:  0.4389\n"
          ]
        },
        {
          "output_type": "stream",
          "name": "stdout",
          "text": [
            " 0.1606750185892714"
          ]
        },
        {
          "output_type": "stream",
          "name": "stderr",
          "text": [
            "Epoch 107/20 --- 352.7s, TLoss: 0.161, TMeanIoU:  0.5917 , Loss: 0.309, MeanIoU:  0.4155, Best_mIoU:  0.4389\n"
          ]
        },
        {
          "output_type": "stream",
          "name": "stdout",
          "text": [
            " 0.1628817516800593"
          ]
        },
        {
          "output_type": "stream",
          "name": "stderr",
          "text": [
            "Epoch 108/20 --- 353.3s, TLoss: 0.163, TMeanIoU:  0.5982 , Loss: 0.289, MeanIoU:  0.4362, Best_mIoU:  0.4389\n"
          ]
        },
        {
          "output_type": "stream",
          "name": "stdout",
          "text": [
            " 0.15974161078985372"
          ]
        },
        {
          "output_type": "stream",
          "name": "stderr",
          "text": [
            "Epoch 109/20 --- 351.9s, TLoss: 0.160, TMeanIoU:  0.5917 , Loss: 0.287, MeanIoU:  0.4407, Best_mIoU:  0.4407\n"
          ]
        },
        {
          "output_type": "stream",
          "name": "stdout",
          "text": [
            " 0.17295979986605597"
          ]
        },
        {
          "output_type": "stream",
          "name": "stderr",
          "text": [
            "Epoch 110/20 --- 350.7s, TLoss: 0.173, TMeanIoU:  0.5787 , Loss: 0.323, MeanIoU:  0.4121, Best_mIoU:  0.4407\n"
          ]
        },
        {
          "output_type": "stream",
          "name": "stdout",
          "text": [
            " 0.18110405606936153"
          ]
        },
        {
          "output_type": "stream",
          "name": "stderr",
          "text": [
            "Epoch 111/20 --- 350.9s, TLoss: 0.181, TMeanIoU:  0.5750 , Loss: 0.307, MeanIoU:  0.4345, Best_mIoU:  0.4407\n"
          ]
        },
        {
          "output_type": "stream",
          "name": "stdout",
          "text": [
            " 0.1827666524993758"
          ]
        },
        {
          "output_type": "stream",
          "name": "stderr",
          "text": [
            "Epoch 112/20 --- 351.0s, TLoss: 0.183, TMeanIoU:  0.5611 , Loss: 0.341, MeanIoU:  0.4135, Best_mIoU:  0.4407\n"
          ]
        },
        {
          "output_type": "stream",
          "name": "stdout",
          "text": [
            " 0.1800414286940513"
          ]
        },
        {
          "output_type": "stream",
          "name": "stderr",
          "text": [
            "Epoch 113/20 --- 351.2s, TLoss: 0.180, TMeanIoU:  0.5759 , Loss: 0.345, MeanIoU:  0.3889, Best_mIoU:  0.4407\n"
          ]
        },
        {
          "output_type": "stream",
          "name": "stdout",
          "text": [
            " 0.17957299792679224"
          ]
        },
        {
          "output_type": "stream",
          "name": "stderr",
          "text": [
            "Epoch 114/20 --- 350.6s, TLoss: 0.180, TMeanIoU:  0.5731 , Loss: 0.288, MeanIoU:  0.4343, Best_mIoU:  0.4407\n"
          ]
        },
        {
          "output_type": "stream",
          "name": "stdout",
          "text": [
            " 0.16990257444289597"
          ]
        },
        {
          "output_type": "stream",
          "name": "stderr",
          "text": [
            "Epoch 115/20 --- 352.7s, TLoss: 0.170, TMeanIoU:  0.5882 , Loss: 0.333, MeanIoU:  0.4051, Best_mIoU:  0.4407\n"
          ]
        },
        {
          "output_type": "stream",
          "name": "stdout",
          "text": [
            " 0.15163518912720525"
          ]
        },
        {
          "output_type": "stream",
          "name": "stderr",
          "text": [
            "Epoch 116/20 --- 355.5s, TLoss: 0.152, TMeanIoU:  0.6047 , Loss: 0.313, MeanIoU:  0.4168, Best_mIoU:  0.4407\n"
          ]
        },
        {
          "output_type": "stream",
          "name": "stdout",
          "text": [
            " 0.16869014917308295"
          ]
        },
        {
          "output_type": "stream",
          "name": "stderr",
          "text": [
            "Epoch 117/20 --- 353.2s, TLoss: 0.169, TMeanIoU:  0.5973 , Loss: 0.333, MeanIoU:  0.4020, Best_mIoU:  0.4407\n"
          ]
        },
        {
          "output_type": "stream",
          "name": "stdout",
          "text": [
            " 0.16688694595086281"
          ]
        },
        {
          "output_type": "stream",
          "name": "stderr",
          "text": [
            "Epoch 118/20 --- 352.6s, TLoss: 0.167, TMeanIoU:  0.5905 , Loss: 0.336, MeanIoU:  0.4035, Best_mIoU:  0.4407\n"
          ]
        },
        {
          "output_type": "stream",
          "name": "stdout",
          "text": [
            " 0.1643811904219502"
          ]
        },
        {
          "output_type": "stream",
          "name": "stderr",
          "text": [
            "Epoch 119/20 --- 352.7s, TLoss: 0.164, TMeanIoU:  0.5843 , Loss: 0.338, MeanIoU:  0.4101, Best_mIoU:  0.4407\n"
          ]
        },
        {
          "output_type": "stream",
          "name": "stdout",
          "text": [
            " 0.1662272997019968"
          ]
        },
        {
          "output_type": "stream",
          "name": "stderr",
          "text": [
            "Epoch 120/20 --- 352.4s, TLoss: 0.166, TMeanIoU:  0.5811 , Loss: 0.296, MeanIoU:  0.4398, Best_mIoU:  0.4407\n"
          ]
        },
        {
          "output_type": "stream",
          "name": "stdout",
          "text": [
            " 0.17427154488154514"
          ]
        },
        {
          "output_type": "stream",
          "name": "stderr",
          "text": [
            "Epoch 121/20 --- 351.7s, TLoss: 0.174, TMeanIoU:  0.5750 , Loss: 0.328, MeanIoU:  0.4056, Best_mIoU:  0.4407\n"
          ]
        },
        {
          "output_type": "stream",
          "name": "stdout",
          "text": [
            " 0.15750960166384267"
          ]
        },
        {
          "output_type": "stream",
          "name": "stderr",
          "text": [
            "Epoch 122/20 --- 352.1s, TLoss: 0.158, TMeanIoU:  0.5942 , Loss: 0.313, MeanIoU:  0.4227, Best_mIoU:  0.4407\n"
          ]
        },
        {
          "output_type": "stream",
          "name": "stdout",
          "text": [
            " 0.16090690138382496"
          ]
        },
        {
          "output_type": "stream",
          "name": "stderr",
          "text": [
            "Epoch 123/20 --- 351.9s, TLoss: 0.161, TMeanIoU:  0.5929 , Loss: 0.313, MeanIoU:  0.4155, Best_mIoU:  0.4407\n"
          ]
        },
        {
          "output_type": "stream",
          "name": "stdout",
          "text": [
            " 0.1432992849939885"
          ]
        },
        {
          "output_type": "stream",
          "name": "stderr",
          "text": [
            "Epoch 124/20 --- 352.2s, TLoss: 0.143, TMeanIoU:  0.6140 , Loss: 0.303, MeanIoU:  0.4167, Best_mIoU:  0.4407\n"
          ]
        },
        {
          "output_type": "stream",
          "name": "stdout",
          "text": [
            " 0.14993068983142008"
          ]
        },
        {
          "output_type": "stream",
          "name": "stderr",
          "text": [
            "Epoch 125/20 --- 351.1s, TLoss: 0.150, TMeanIoU:  0.6109 , Loss: 0.318, MeanIoU:  0.4165, Best_mIoU:  0.4407\n"
          ]
        },
        {
          "output_type": "stream",
          "name": "stdout",
          "text": [
            " 0.15568580548878533"
          ]
        },
        {
          "output_type": "stream",
          "name": "stderr",
          "text": [
            "Epoch 126/20 --- 352.2s, TLoss: 0.156, TMeanIoU:  0.6005 , Loss: 0.324, MeanIoU:  0.4077, Best_mIoU:  0.4407\n"
          ]
        },
        {
          "output_type": "stream",
          "name": "stdout",
          "text": [
            " 0.15865807081563355"
          ]
        },
        {
          "output_type": "stream",
          "name": "stderr",
          "text": [
            "Epoch 127/20 --- 352.4s, TLoss: 0.159, TMeanIoU:  0.5957 , Loss: 0.321, MeanIoU:  0.4117, Best_mIoU:  0.4407\n"
          ]
        },
        {
          "output_type": "stream",
          "name": "stdout",
          "text": [
            " 0.1608254796081663"
          ]
        },
        {
          "output_type": "stream",
          "name": "stderr",
          "text": [
            "Epoch 128/20 --- 352.9s, TLoss: 0.161, TMeanIoU:  0.5957 , Loss: 0.314, MeanIoU:  0.4166, Best_mIoU:  0.4407\n"
          ]
        },
        {
          "output_type": "stream",
          "name": "stdout",
          "text": [
            " 0.1620820166462765"
          ]
        },
        {
          "output_type": "stream",
          "name": "stderr",
          "text": [
            "Epoch 129/20 --- 352.3s, TLoss: 0.162, TMeanIoU:  0.5914 , Loss: 0.329, MeanIoU:  0.4012, Best_mIoU:  0.4407\n"
          ]
        },
        {
          "output_type": "stream",
          "name": "stdout",
          "text": [
            " 0.15947544086815388"
          ]
        },
        {
          "output_type": "stream",
          "name": "stderr",
          "text": [
            "Epoch 130/20 --- 353.2s, TLoss: 0.159, TMeanIoU:  0.5980 , Loss: 0.331, MeanIoU:  0.3903, Best_mIoU:  0.4407\n"
          ]
        },
        {
          "output_type": "stream",
          "name": "stdout",
          "text": [
            " 0.15699873850722545"
          ]
        },
        {
          "output_type": "stream",
          "name": "stderr",
          "text": [
            "Epoch 131/20 --- 353.1s, TLoss: 0.157, TMeanIoU:  0.5990 , Loss: 0.317, MeanIoU:  0.4094, Best_mIoU:  0.4407\n"
          ]
        },
        {
          "output_type": "stream",
          "name": "stdout",
          "text": [
            " 0.15148658299628515"
          ]
        },
        {
          "output_type": "stream",
          "name": "stderr",
          "text": [
            "Epoch 132/20 --- 352.3s, TLoss: 0.151, TMeanIoU:  0.6124 , Loss: 0.335, MeanIoU:  0.4002, Best_mIoU:  0.4407\n"
          ]
        },
        {
          "output_type": "stream",
          "name": "stdout",
          "text": [
            " 0.1532186485713092"
          ]
        },
        {
          "output_type": "stream",
          "name": "stderr",
          "text": [
            "Epoch 133/20 --- 352.7s, TLoss: 0.153, TMeanIoU:  0.6125 , Loss: 0.332, MeanIoU:  0.4045, Best_mIoU:  0.4407\n"
          ]
        },
        {
          "output_type": "stream",
          "name": "stdout",
          "text": [
            " 0.17227134477304964"
          ]
        },
        {
          "output_type": "stream",
          "name": "stderr",
          "text": [
            "Epoch 134/20 --- 353.2s, TLoss: 0.172, TMeanIoU:  0.5991 , Loss: 0.311, MeanIoU:  0.4133, Best_mIoU:  0.4407\n"
          ]
        },
        {
          "output_type": "stream",
          "name": "stdout",
          "text": [
            " 0.15820393818680736"
          ]
        },
        {
          "output_type": "stream",
          "name": "stderr",
          "text": [
            "Epoch 135/20 --- 352.8s, TLoss: 0.158, TMeanIoU:  0.6044 , Loss: 0.333, MeanIoU:  0.3758, Best_mIoU:  0.4407\n"
          ]
        },
        {
          "output_type": "stream",
          "name": "stdout",
          "text": [
            " 0.15665350116303844"
          ]
        },
        {
          "output_type": "stream",
          "name": "stderr",
          "text": [
            "Epoch 136/20 --- 352.5s, TLoss: 0.157, TMeanIoU:  0.5996 , Loss: 0.325, MeanIoU:  0.4276, Best_mIoU:  0.4407\n"
          ]
        },
        {
          "output_type": "stream",
          "name": "stdout",
          "text": [
            " 0.16100256498318027"
          ]
        },
        {
          "output_type": "stream",
          "name": "stderr",
          "text": [
            "Epoch 137/20 --- 351.6s, TLoss: 0.161, TMeanIoU:  0.5916 , Loss: 0.316, MeanIoU:  0.4263, Best_mIoU:  0.4407\n"
          ]
        },
        {
          "output_type": "stream",
          "name": "stdout",
          "text": [
            " 0.15576273007249872"
          ]
        },
        {
          "output_type": "stream",
          "name": "stderr",
          "text": [
            "Epoch 138/20 --- 352.7s, TLoss: 0.156, TMeanIoU:  0.5977 , Loss: 0.324, MeanIoU:  0.4042, Best_mIoU:  0.4407\n"
          ]
        },
        {
          "output_type": "stream",
          "name": "stdout",
          "text": [
            " 0.14437680388668653"
          ]
        },
        {
          "output_type": "stream",
          "name": "stderr",
          "text": [
            "Epoch 139/20 --- 351.8s, TLoss: 0.144, TMeanIoU:  0.6167 , Loss: 0.303, MeanIoU:  0.4040, Best_mIoU:  0.4407\n"
          ]
        },
        {
          "output_type": "stream",
          "name": "stdout",
          "text": [
            " 0.1541120803994716"
          ]
        },
        {
          "output_type": "stream",
          "name": "stderr",
          "text": [
            "Epoch 140/20 --- 351.4s, TLoss: 0.154, TMeanIoU:  0.6088 , Loss: 0.332, MeanIoU:  0.3935, Best_mIoU:  0.4407\n"
          ]
        },
        {
          "output_type": "stream",
          "name": "stdout",
          "text": [
            " 0.1481289522566457"
          ]
        },
        {
          "output_type": "stream",
          "name": "stderr",
          "text": [
            "Epoch 141/20 --- 351.1s, TLoss: 0.148, TMeanIoU:  0.6157 , Loss: 0.310, MeanIoU:  0.4118, Best_mIoU:  0.4407\n"
          ]
        },
        {
          "output_type": "stream",
          "name": "stdout",
          "text": [
            " 0.14079575833255595"
          ]
        },
        {
          "output_type": "stream",
          "name": "stderr",
          "text": [
            "Epoch 142/20 --- 351.1s, TLoss: 0.141, TMeanIoU:  0.6223 , Loss: 0.333, MeanIoU:  0.3907, Best_mIoU:  0.4407\n"
          ]
        },
        {
          "output_type": "stream",
          "name": "stdout",
          "text": [
            " 0.14328466011576632"
          ]
        },
        {
          "output_type": "stream",
          "name": "stderr",
          "text": [
            "Epoch 143/20 --- 350.9s, TLoss: 0.143, TMeanIoU:  0.6173 , Loss: 0.314, MeanIoU:  0.4234, Best_mIoU:  0.4407\n"
          ]
        },
        {
          "output_type": "stream",
          "name": "stdout",
          "text": [
            " 0.15901755135027643"
          ]
        },
        {
          "output_type": "stream",
          "name": "stderr",
          "text": [
            "Epoch 144/20 --- 350.6s, TLoss: 0.159, TMeanIoU:  0.5985 , Loss: 0.293, MeanIoU:  0.4317, Best_mIoU:  0.4407\n"
          ]
        },
        {
          "output_type": "stream",
          "name": "stdout",
          "text": [
            " 0.158654531381925"
          ]
        },
        {
          "output_type": "stream",
          "name": "stderr",
          "text": [
            "Epoch 145/20 --- 350.8s, TLoss: 0.159, TMeanIoU:  0.5979 , Loss: 0.311, MeanIoU:  0.4286, Best_mIoU:  0.4407\n"
          ]
        },
        {
          "output_type": "stream",
          "name": "stdout",
          "text": [
            " 0.15041207740263338"
          ]
        },
        {
          "output_type": "stream",
          "name": "stderr",
          "text": [
            "Epoch 146/20 --- 350.7s, TLoss: 0.150, TMeanIoU:  0.6041 , Loss: 0.341, MeanIoU:  0.4152, Best_mIoU:  0.4407\n"
          ]
        },
        {
          "output_type": "stream",
          "name": "stdout",
          "text": [
            " 0.15785803319682173"
          ]
        },
        {
          "output_type": "stream",
          "name": "stderr",
          "text": [
            "Epoch 147/20 --- 351.3s, TLoss: 0.158, TMeanIoU:  0.6030 , Loss: 0.324, MeanIoU:  0.4007, Best_mIoU:  0.4407\n"
          ]
        },
        {
          "output_type": "stream",
          "name": "stdout",
          "text": [
            " 0.14224886344877435"
          ]
        },
        {
          "output_type": "stream",
          "name": "stderr",
          "text": [
            "Epoch 148/20 --- 353.0s, TLoss: 0.142, TMeanIoU:  0.6162 , Loss: 0.304, MeanIoU:  0.4222, Best_mIoU:  0.4407\n"
          ]
        },
        {
          "output_type": "stream",
          "name": "stdout",
          "text": [
            " 0.15040090454694865"
          ]
        }
      ],
      "source": [
        " run_train_loop()\n",
        "\n",
        " \"\"\" 1.7658737223693906/usr/local/lib/python3.8/dist-packages/torch/optim/lr_scheduler.py:1282: UserWarning: To get the last learning rate computed by the scheduler, please use `get_last_lr()`.\n",
        "  warnings.warn(\"To get the last learning rate computed by the scheduler, \"\n",
        " 1.609340694046417Epoch 1/20 --- 356.2s, TLoss: 1.609, TMeanIoU:  0.0606 , Loss: 1.492, MeanIoU:  0.1046, Best_mIoU:  0.1046\n",
        " 1.2719257354140199Epoch 2/20 --- 355.6s, TLoss: 1.272, TMeanIoU:  0.1014 , Loss: 1.082, MeanIoU:  0.1083, Best_mIoU:  0.1083\n",
        " 0.9633924454665544Epoch 3/20 --- 355.8s, TLoss: 0.963, TMeanIoU:  0.1289 , Loss: 0.836, MeanIoU:  0.1443, Best_mIoU:  0.1443\n",
        " 0.7478171222230009Epoch 4/20 --- 355.4s, TLoss: 0.748, TMeanIoU:  0.1576 , Loss: 0.711, MeanIoU:  0.1478, Best_mIoU:  0.1478\n",
        " 0.6373411562830397Epoch 5/20 --- 354.7s, TLoss: 0.637, TMeanIoU:  0.1901 , Loss: 0.590, MeanIoU:  0.1986, Best_mIoU:  0.1986\n",
        " 0.5582773617895336Epoch 6/20 --- 354.3s, TLoss: 0.558, TMeanIoU:  0.2206 , Loss: 0.551, MeanIoU:  0.2306, Best_mIoU:  0.2306\n",
        " 0.5365597953764683Epoch 7/20 --- 354.6s, TLoss: 0.537, TMeanIoU:  0.2336 , Loss: 0.561, MeanIoU:  0.2403, Best_mIoU:  0.2403\n",
        " 0.5019950412684466Epoch 8/20 --- 353.3s, TLoss: 0.502, TMeanIoU:  0.2548 , Loss: 0.503, MeanIoU:  0.2524, Best_mIoU:  0.2524\n",
        " 0.4909612004712434Epoch 9/20 --- 354.5s, TLoss: 0.491, TMeanIoU:  0.2605 , Loss: 0.491, MeanIoU:  0.2563, Best_mIoU:  0.2563\n",
        " 0.49480763048947746Epoch 10/20 --- 356.3s, TLoss: 0.495, TMeanIoU:  0.2619 , Loss: 0.496, MeanIoU:  0.2600, Best_mIoU:  0.2600\n",
        " 0.4887837419843183Epoch 11/20 --- 354.6s, TLoss: 0.489, TMeanIoU:  0.2690 , Loss: 0.509, MeanIoU:  0.2725, Best_mIoU:  0.2725\n",
        " 0.46840437998505985Epoch 12/20 --- 354.3s, TLoss: 0.468, TMeanIoU:  0.2842 , Loss: 0.510, MeanIoU:  0.2504, Best_mIoU:  0.2725\n",
        " 0.4658607569750039Epoch 13/20 --- 354.7s, TLoss: 0.466, TMeanIoU:  0.2916 , Loss: 0.482, MeanIoU:  0.2828, Best_mIoU:  0.2828\n",
        " 0.4313493309006063Epoch 14/20 --- 354.7s, TLoss: 0.431, TMeanIoU:  0.3126 , Loss: 0.421, MeanIoU:  0.3262, Best_mIoU:  0.3262\n",
        " 0.410879720912762Epoch 15/20 --- 352.0s, TLoss: 0.411, TMeanIoU:  0.3262 , Loss: 0.447, MeanIoU:  0.3164, Best_mIoU:  0.3262\n",
        " 0.3942644638147398Epoch 16/20 --- 352.0s, TLoss: 0.394, TMeanIoU:  0.3420 , Loss: 0.428, MeanIoU:  0.3269, Best_mIoU:  0.3269\n",
        " 0.38898058890680803Epoch 17/20 --- 351.5s, TLoss: 0.389, TMeanIoU:  0.3472 , Loss: 0.405, MeanIoU:  0.3423, Best_mIoU:  0.3423\n",
        " 0.3862410463610329Epoch 18/20 --- 351.3s, TLoss: 0.386, TMeanIoU:  0.3515 , Loss: 0.421, MeanIoU:  0.3291, Best_mIoU:  0.3423\n",
        " 0.39520590172104797Epoch 19/20 --- 351.2s, TLoss: 0.395, TMeanIoU:  0.3433 , Loss: 0.417, MeanIoU:  0.3551, Best_mIoU:  0.3551\n",
        " 0.38670747224195023Epoch 20/20 --- 351.8s, TLoss: 0.387, TMeanIoU:  0.3446 , Loss: 0.435, MeanIoU:  0.3173, Best_mIoU:  0.3551\n",
        " 0.3939858051766012Epoch 21/20 --- 351.7s, TLoss: 0.394, TMeanIoU:  0.3447 , Loss: 0.500, MeanIoU:  0.3094, Best_mIoU:  0.3551\n",
        " 0.3789916094612984Epoch 22/20 --- 351.6s, TLoss: 0.379, TMeanIoU:  0.3575 , Loss: 0.398, MeanIoU:  0.3599, Best_mIoU:  0.3599\n",
        " 0.3596787236301667Epoch 23/20 --- 350.6s, TLoss: 0.360, TMeanIoU:  0.3700 , Loss: 0.397, MeanIoU:  0.3504, Best_mIoU:  0.3599\n",
        " 0.35030405021558186Epoch 24/20 --- 351.2s, TLoss: 0.350, TMeanIoU:  0.3817 , Loss: 0.380, MeanIoU:  0.3671, Best_mIoU:  0.3671\n",
        " 0.3383767463008318Epoch 25/20 --- 350.9s, TLoss: 0.338, TMeanIoU:  0.3914 , Loss: 0.381, MeanIoU:  0.3636, Best_mIoU:  0.3671\n",
        " 0.3390994411954501Epoch 26/20 --- 353.0s, TLoss: 0.339, TMeanIoU:  0.3952 , Loss: 0.390, MeanIoU:  0.3702, Best_mIoU:  0.3702\n",
        " 0.34118626794126805Epoch 27/20 --- 352.0s, TLoss: 0.341, TMeanIoU:  0.3882 , Loss: 0.371, MeanIoU:  0.3633, Best_mIoU:  0.3702\n",
        " 0.3361230073753561Epoch 28/20 --- 350.8s, TLoss: 0.336, TMeanIoU:  0.3885 , Loss: 0.399, MeanIoU:  0.3520, Best_mIoU:  0.3702\n",
        " 0.3301386040676356Epoch 29/20 --- 351.3s, TLoss: 0.330, TMeanIoU:  0.3924 , Loss: 0.403, MeanIoU:  0.3394, Best_mIoU:  0.3702\n",
        " 0.3265427987168867Epoch 30/20 --- 351.0s, TLoss: 0.327, TMeanIoU:  0.3959 , Loss: 0.387, MeanIoU:  0.3729, Best_mIoU:  0.3729\n",
        " 0.32511954051209624Epoch 31/20 --- 353.2s, TLoss: 0.325, TMeanIoU:  0.4039 , Loss: 0.363, MeanIoU:  0.3842, Best_mIoU:  0.3842\n",
        " 0.29398190063065466Epoch 32/20 --- 350.0s, TLoss: 0.294, TMeanIoU:  0.4292 , Loss: 0.351, MeanIoU:  0.3750, Best_mIoU:  0.3842\n",
        " 0.3013662053732432Epoch 33/20 --- 349.0s, TLoss: 0.301, TMeanIoU:  0.4304 , Loss: 0.378, MeanIoU:  0.3831, Best_mIoU:  0.3842\n",
        " 0.295828488118522Epoch 34/20 --- 349.7s, TLoss: 0.296, TMeanIoU:  0.4342 , Loss: 0.363, MeanIoU:  0.3761, Best_mIoU:  0.3842\n",
        " 0.30068152915518853Epoch 35/20 --- 349.3s, TLoss: 0.301, TMeanIoU:  0.4285 , Loss: 0.388, MeanIoU:  0.3650, Best_mIoU:  0.3842\n",
        " 0.2899801823062047Epoch 36/20 --- 352.1s, TLoss: 0.290, TMeanIoU:  0.4346 , Loss: 0.390, MeanIoU:  0.3531, Best_mIoU:  0.3842\n",
        " 0.31283776317265755Epoch 37/20 --- 351.7s, TLoss: 0.313, TMeanIoU:  0.4177 , Loss: 0.341, MeanIoU:  0.3945, Best_mIoU:  0.3945\n",
        " 0.30286638565971624Epoch 38/20 --- 351.3s, TLoss: 0.303, TMeanIoU:  0.4302 , Loss: 0.363, MeanIoU:  0.3725, Best_mIoU:  0.3945\n",
        " 0.2958190765682297Epoch 39/20 --- 349.8s, TLoss: 0.296, TMeanIoU:  0.4412 , Loss: 0.340, MeanIoU:  0.3972, Best_mIoU:  0.3972\n",
        " 0.29650103828245Epoch 40/20 --- 351.1s, TLoss: 0.297, TMeanIoU:  0.4422 , Loss: 0.358, MeanIoU:  0.3890, Best_mIoU:  0.3972\n",
        " 0.27644768215777693Epoch 41/20 --- 352.6s, TLoss: 0.276, TMeanIoU:  0.4534 , Loss: 0.343, MeanIoU:  0.3847, Best_mIoU:  0.3972\n",
        " 0.2697778136495629Epoch 42/20 --- 351.3s, TLoss: 0.270, TMeanIoU:  0.4632 , Loss: 0.352, MeanIoU:  0.4013, Best_mIoU:  0.4013\n",
        " 0.2741411085510428Epoch 43/20 --- 352.1s, TLoss: 0.274, TMeanIoU:  0.4591 , Loss: 0.354, MeanIoU:  0.3864, Best_mIoU:  0.4013\n",
        " 0.2742696595133932Epoch 44/20 --- 351.3s, TLoss: 0.274, TMeanIoU:  0.4529 , Loss: 0.365, MeanIoU:  0.3684, Best_mIoU:  0.4013\n",
        " 0.2727273950862455Epoch 45/20 --- 351.2s, TLoss: 0.273, TMeanIoU:  0.4588 , Loss: 0.347, MeanIoU:  0.3920, Best_mIoU:  0.4013\n",
        " 0.2861541668503009Epoch 46/20 --- 351.7s, TLoss: 0.286, TMeanIoU:  0.4470 , Loss: 0.347, MeanIoU:  0.3762, Best_mIoU:  0.4013\n",
        " 0.2767122193196073Epoch 47/20 --- 351.6s, TLoss: 0.277, TMeanIoU:  0.4564 , Loss: 0.356, MeanIoU:  0.3713, Best_mIoU:  0.4013\n",
        " 0.2653774027459708Epoch 48/20 --- 351.1s, TLoss: 0.265, TMeanIoU:  0.4686 , Loss: 0.362, MeanIoU:  0.3804, Best_mIoU:  0.4013\n",
        " 0.25182939875541777Epoch 49/20 --- 352.6s, TLoss: 0.252, TMeanIoU:  0.4844 , Loss: 0.345, MeanIoU:  0.3756, Best_mIoU:  0.4013\n",
        " 0.24227738337588942Epoch 50/20 --- 355.1s, TLoss: 0.242, TMeanIoU:  0.4951 , Loss: 0.317, MeanIoU:  0.4128, Best_mIoU:  0.4128\n",
        " 0.24407650105623607Epoch 51/20 --- 355.0s, TLoss: 0.244, TMeanIoU:  0.4890 , Loss: 0.343, MeanIoU:  0.3977, Best_mIoU:  0.4128\n",
        " 0.24739915573141516Epoch 52/20 --- 351.9s, TLoss: 0.247, TMeanIoU:  0.4864 , Loss: 0.324, MeanIoU:  0.3824, Best_mIoU:  0.4128\n",
        " 0.25201733765416773Epoch 53/20 --- 352.2s, TLoss: 0.252, TMeanIoU:  0.4863 , Loss: 0.353, MeanIoU:  0.3863, Best_mIoU:  0.4128\n",
        " 0.2551304147111226Epoch 54/20 --- 352.0s, TLoss: 0.255, TMeanIoU:  0.4812 , Loss: 0.337, MeanIoU:  0.4050, Best_mIoU:  0.4128\n",
        " 0.2509968178240938Epoch 55/20 --- 351.7s, TLoss: 0.251, TMeanIoU:  0.4830 , Loss: 0.344, MeanIoU:  0.4072, Best_mIoU:  0.4128\n",
        " 0.25430050006399163Epoch 56/20 --- 351.5s, TLoss: 0.254, TMeanIoU:  0.4894 , Loss: 0.338, MeanIoU:  0.3932, Best_mIoU:  0.4128\n",
        " 0.2293915555214952Epoch 57/20 --- 352.7s, TLoss: 0.229, TMeanIoU:  0.5057 , Loss: 0.337, MeanIoU:  0.4015, Best_mIoU:  0.4128\n",
        " 0.21265386671239575Epoch 58/20 --- 351.8s, TLoss: 0.213, TMeanIoU:  0.5250 , Loss: 0.342, MeanIoU:  0.3980, Best_mIoU:  0.4128\n",
        " 0.23020136772048133Epoch 59/20 --- 352.4s, TLoss: 0.230, TMeanIoU:  0.5195 , Loss: 0.326, MeanIoU:  0.3942, Best_mIoU:  0.4128\n",
        " 0.2256133253274904Epoch 60/20 --- 351.7s, TLoss: 0.226, TMeanIoU:  0.5132 , Loss: 0.320, MeanIoU:  0.4040, Best_mIoU:  0.4128\n",
        " 0.23534595031107855Epoch 61/20 --- 352.0s, TLoss: 0.235, TMeanIoU:  0.4962 , Loss: 0.316, MeanIoU:  0.4102, Best_mIoU:  0.4128\n",
        " 0.2366852557029387Epoch 62/20 --- 352.0s, TLoss: 0.237, TMeanIoU:  0.4992 , Loss: 0.326, MeanIoU:  0.4174, Best_mIoU:  0.4174\n",
        " 0.23404929359789287Epoch 63/20 --- 351.6s, TLoss: 0.234, TMeanIoU:  0.5025 , Loss: 0.339, MeanIoU:  0.3939, Best_mIoU:  0.4174\n",
        " 0.22937111916503558Epoch 64/20 --- 351.4s, TLoss: 0.229, TMeanIoU:  0.5034 , Loss: 0.334, MeanIoU:  0.4067, Best_mIoU:  0.4174\n",
        " 0.2240033296766007Epoch 65/20 --- 351.2s, TLoss: 0.224, TMeanIoU:  0.5158 , Loss: 0.317, MeanIoU:  0.4126, Best_mIoU:  0.4174\n",
        " 0.21551521957956296Epoch 66/20 --- 351.2s, TLoss: 0.216, TMeanIoU:  0.5260 , Loss: 0.338, MeanIoU:  0.3957, Best_mIoU:  0.4174\n",
        " 0.20188850135080835Epoch 67/20 --- 352.1s, TLoss: 0.202, TMeanIoU:  0.5417 , Loss: 0.348, MeanIoU:  0.3895, Best_mIoU:  0.4174\n",
        " 0.20778156261211933Epoch 68/20 --- 351.3s, TLoss: 0.208, TMeanIoU:  0.5302 , Loss: 0.359, MeanIoU:  0.3918, Best_mIoU:  0.4174\n",
        " 0.22199858007874618Epoch 69/20 --- 351.7s, TLoss: 0.222, TMeanIoU:  0.5213 , Loss: 0.337, MeanIoU:  0.4068, Best_mIoU:  0.4174\n",
        " 0.21608764142969725Epoch 70/20 --- 351.5s, TLoss: 0.216, TMeanIoU:  0.5198 , Loss: 0.374, MeanIoU:  0.3551, Best_mIoU:  0.4174\n",
        " 0.22641002666240953Epoch 71/20 --- 350.8s, TLoss: 0.226, TMeanIoU:  0.5119 , Loss: 0.356, MeanIoU:  0.3864, Best_mIoU:  0.4174\n",
        " 0.21560878888719606Epoch 72/20 --- 351.5s, TLoss: 0.216, TMeanIoU:  0.5240 , Loss: 0.321, MeanIoU:  0.4104, Best_mIoU:  0.4174\n",
        " 0.20355407327258185Epoch 73/20 --- 351.6s, TLoss: 0.204, TMeanIoU:  0.5379 , Loss: 0.332, MeanIoU:  0.4131, Best_mIoU:  0.4174\n",
        " 0.19411938480684204Epoch 74/20 --- 351.2s, TLoss: 0.194, TMeanIoU:  0.5479 , Loss: 0.318, MeanIoU:  0.4191, Best_mIoU:  0.4191\n",
        " 0.20050065075298348Epoch 75/20 --- 351.5s, TLoss: 0.201, TMeanIoU:  0.5464 , Loss: 0.324, MeanIoU:  0.4053, Best_mIoU:  0.4191\n",
        " 0.20758536104955377Epoch 76/20 --- 351.5s, TLoss: 0.208, TMeanIoU:  0.5366 , Loss: 0.335, MeanIoU:  0.4030, Best_mIoU:  0.4191\n",
        " 0.20177482016539275Epoch 77/20 --- 352.3s, TLoss: 0.202, TMeanIoU:  0.5383 , Loss: 0.341, MeanIoU:  0.3921, Best_mIoU:  0.4191\n",
        " 0.21940262656087534Epoch 78/20 --- 351.0s, TLoss: 0.219, TMeanIoU:  0.5250 , Loss: 0.358, MeanIoU:  0.3859, Best_mIoU:  0.4191\n",
        " 0.20211327528760498Epoch 79/20 --- 351.5s, TLoss: 0.202, TMeanIoU:  0.5362 , Loss: 0.327, MeanIoU:  0.4116, Best_mIoU:  0.4191\n",
        " 0.2084268300544584Epoch 80/20 --- 350.7s, TLoss: 0.208, TMeanIoU:  0.5312 , Loss: 0.321, MeanIoU:  0.4055, Best_mIoU:  0.4191\n",
        " 0.21024661406688136Epoch 81/20 --- 352.0s, TLoss: 0.210, TMeanIoU:  0.5367 , Loss: 0.318, MeanIoU:  0.4034, Best_mIoU:  0.4191\n",
        " 0.19333327045089577Epoch 82/20 --- 352.2s, TLoss: 0.193, TMeanIoU:  0.5572 , Loss: 0.322, MeanIoU:  0.4107, Best_mIoU:  0.4191\n",
        " 0.18545074263968633Epoch 83/20 --- 350.8s, TLoss: 0.185, TMeanIoU:  0.5610 , Loss: 0.340, MeanIoU:  0.3992, Best_mIoU:  0.4191\n",
        " 0.18973648074442423Epoch 84/20 --- 353.0s, TLoss: 0.190, TMeanIoU:  0.5616 , Loss: 0.326, MeanIoU:  0.4174, Best_mIoU:  0.4191\n",
        " 0.20235825631802398Epoch 85/20 --- 351.7s, TLoss: 0.202, TMeanIoU:  0.5443 , Loss: 0.324, MeanIoU:  0.4084, Best_mIoU:  0.4191\n",
        " 0.19603612260041609Epoch 86/20 --- 354.9s, TLoss: 0.196, TMeanIoU:  0.5502 , Loss: 0.321, MeanIoU:  0.4098, Best_mIoU:  0.4191\n",
        " 0.19596703129250623Epoch 87/20 --- 355.3s, TLoss: 0.196, TMeanIoU:  0.5459 , Loss: 0.345, MeanIoU:  0.3744, Best_mIoU:  0.4191\n",
        " 0.1873754104525448Epoch 88/20 --- 354.2s, TLoss: 0.187, TMeanIoU:  0.5505 , Loss: 0.318, MeanIoU:  0.4208, Best_mIoU:  0.4208\n",
        " 0.1985054601169445Epoch 89/20 --- 355.3s, TLoss: 0.199, TMeanIoU:  0.5474 , Loss: 0.314, MeanIoU:  0.4112, Best_mIoU:  0.4208\n",
        " 0.19025130969882093Epoch 90/20 --- 351.4s, TLoss: 0.190, TMeanIoU:  0.5644 , Loss: 0.288, MeanIoU:  0.4389, Best_mIoU:  0.4389\n",
        " 0.18435181885957302Epoch 91/20 --- 351.9s, TLoss: 0.184, TMeanIoU:  0.5694 , Loss: 0.310, MeanIoU:  0.4144, Best_mIoU:  0.4389\n",
        " 0.17761683935440062Epoch 92/20 --- 352.5s, TLoss: 0.178, TMeanIoU:  0.5721 , Loss: 0.320, MeanIoU:  0.4234, Best_mIoU:  0.4389\n",
        " 0.18447947101178094Epoch 93/20 --- 352.1s, TLoss: 0.184, TMeanIoU:  0.5663 , Loss: 0.332, MeanIoU:  0.3996, Best_mIoU:  0.4389\n",
        " 0.18803223759246462Epoch 94/20 --- 351.5s, TLoss: 0.188, TMeanIoU:  0.5542 , Loss: 0.303, MeanIoU:  0.4301, Best_mIoU:  0.4389\n",
        " 0.20035328033021294Epoch 95/20 --- 352.2s, TLoss: 0.200, TMeanIoU:  0.5415 , Loss: 0.344, MeanIoU:  0.3831, Best_mIoU:  0.4389\n",
        " 0.18890786274427626Epoch 96/20 --- 351.4s, TLoss: 0.189, TMeanIoU:  0.5542 , Loss: 0.305, MeanIoU:  0.4245, Best_mIoU:  0.4389\n",
        " 0.19218604888550958Epoch 97/20 --- 351.1s, TLoss: 0.192, TMeanIoU:  0.5570 , Loss: 0.327, MeanIoU:  0.4020, Best_mIoU:  0.4389\n",
        " 0.18272182172840004Epoch 98/20 --- 352.1s, TLoss: 0.183, TMeanIoU:  0.5681 , Loss: 0.327, MeanIoU:  0.4010, Best_mIoU:  0.4389\n",
        " 0.17368177715224112Epoch 99/20 --- 350.8s, TLoss: 0.174, TMeanIoU:  0.5846 , Loss: 0.314, MeanIoU:  0.4258, Best_mIoU:  0.4389\n",
        " 0.17165205470335138Epoch 100/20 --- 351.6s, TLoss: 0.172, TMeanIoU:  0.5875 , Loss: 0.325, MeanIoU:  0.3939, Best_mIoU:  0.4389\n",
        " 0.17371455249706452Epoch 101/20 --- 350.9s, TLoss: 0.174, TMeanIoU:  0.5807 , Loss: 0.316, MeanIoU:  0.4177, Best_mIoU:  0.4389\n",
        " 0.18345778690719589Epoch 102/20 --- 351.6s, TLoss: 0.183, TMeanIoU:  0.5654 , Loss: 0.284, MeanIoU:  0.4292, Best_mIoU:  0.4389\n",
        " 0.17926969802323894Epoch 103/20 --- 350.6s, TLoss: 0.179, TMeanIoU:  0.5683 , Loss: 0.317, MeanIoU:  0.4318, Best_mIoU:  0.4389\n",
        " 0.1832531705195874Epoch 104/20 --- 352.5s, TLoss: 0.183, TMeanIoU:  0.5576 , Loss: 0.312, MeanIoU:  0.4048, Best_mIoU:  0.4389\n",
        " 0.18719840128260667Epoch 105/20 --- 351.4s, TLoss: 0.187, TMeanIoU:  0.5589 , Loss: 0.325, MeanIoU:  0.4091, Best_mIoU:  0.4389\n",
        " 0.18519409747243457Epoch 106/20 --- 352.2s, TLoss: 0.185, TMeanIoU:  0.5686 , Loss: 0.334, MeanIoU:  0.3960, Best_mIoU:  0.4389\n",
        " 0.1606750185892714Epoch 107/20 --- 352.7s, TLoss: 0.161, TMeanIoU:  0.5917 , Loss: 0.309, MeanIoU:  0.4155, Best_mIoU:  0.4389\n",
        " 0.1628817516800593Epoch 108/20 --- 353.3s, TLoss: 0.163, TMeanIoU:  0.5982 , Loss: 0.289, MeanIoU:  0.4362, Best_mIoU:  0.4389\n",
        " 0.15974161078985372Epoch 109/20 --- 351.9s, TLoss: 0.160, TMeanIoU:  0.5917 , Loss: 0.287, MeanIoU:  0.4407, Best_mIoU:  0.4407\n",
        " 0.17295979986605597Epoch 110/20 --- 350.7s, TLoss: 0.173, TMeanIoU:  0.5787 , Loss: 0.323, MeanIoU:  0.4121, Best_mIoU:  0.4407\n",
        " 0.18110405606936153Epoch 111/20 --- 350.9s, TLoss: 0.181, TMeanIoU:  0.5750 , Loss: 0.307, MeanIoU:  0.4345, Best_mIoU:  0.4407\n",
        " 0.1827666524993758Epoch 112/20 --- 351.0s, TLoss: 0.183, TMeanIoU:  0.5611 , Loss: 0.341, MeanIoU:  0.4135, Best_mIoU:  0.4407\n",
        " 0.1800414286940513Epoch 113/20 --- 351.2s, TLoss: 0.180, TMeanIoU:  0.5759 , Loss: 0.345, MeanIoU:  0.3889, Best_mIoU:  0.4407\n",
        " 0.17957299792679224Epoch 114/20 --- 350.6s, TLoss: 0.180, TMeanIoU:  0.5731 , Loss: 0.288, MeanIoU:  0.4343, Best_mIoU:  0.4407\n",
        " 0.16990257444289597Epoch 115/20 --- 352.7s, TLoss: 0.170, TMeanIoU:  0.5882 , Loss: 0.333, MeanIoU:  0.4051, Best_mIoU:  0.4407\n",
        " 0.15163518912720525Epoch 116/20 --- 355.5s, TLoss: 0.152, TMeanIoU:  0.6047 , Loss: 0.313, MeanIoU:  0.4168, Best_mIoU:  0.4407\n",
        " 0.16869014917308295Epoch 117/20 --- 353.2s, TLoss: 0.169, TMeanIoU:  0.5973 , Loss: 0.333, MeanIoU:  0.4020, Best_mIoU:  0.4407\n",
        " 0.16688694595086281Epoch 118/20 --- 352.6s, TLoss: 0.167, TMeanIoU:  0.5905 , Loss: 0.336, MeanIoU:  0.4035, Best_mIoU:  0.4407\n",
        " 0.1643811904219502Epoch 119/20 --- 352.7s, TLoss: 0.164, TMeanIoU:  0.5843 , Loss: 0.338, MeanIoU:  0.4101, Best_mIoU:  0.4407\n",
        " 0.1662272997019968Epoch 120/20 --- 352.4s, TLoss: 0.166, TMeanIoU:  0.5811 , Loss: 0.296, MeanIoU:  0.4398, Best_mIoU:  0.4407\n",
        " 0.17427154488154514Epoch 121/20 --- 351.7s, TLoss: 0.174, TMeanIoU:  0.5750 , Loss: 0.328, MeanIoU:  0.4056, Best_mIoU:  0.4407\n",
        " 0.15750960166384267Epoch 122/20 --- 352.1s, TLoss: 0.158, TMeanIoU:  0.5942 , Loss: 0.313, MeanIoU:  0.4227, Best_mIoU:  0.4407\n",
        " 0.16090690138382496Epoch 123/20 --- 351.9s, TLoss: 0.161, TMeanIoU:  0.5929 , Loss: 0.313, MeanIoU:  0.4155, Best_mIoU:  0.4407\n",
        " 0.1432992849939885Epoch 124/20 --- 352.2s, TLoss: 0.143, TMeanIoU:  0.6140 , Loss: 0.303, MeanIoU:  0.4167, Best_mIoU:  0.4407\n",
        " 0.14993068983142008Epoch 125/20 --- 351.1s, TLoss: 0.150, TMeanIoU:  0.6109 , Loss: 0.318, MeanIoU:  0.4165, Best_mIoU:  0.4407\n",
        " 0.15568580548878533Epoch 126/20 --- 352.2s, TLoss: 0.156, TMeanIoU:  0.6005 , Loss: 0.324, MeanIoU:  0.4077, Best_mIoU:  0.4407\n",
        " 0.15865807081563355Epoch 127/20 --- 352.4s, TLoss: 0.159, TMeanIoU:  0.5957 , Loss: 0.321, MeanIoU:  0.4117, Best_mIoU:  0.4407\n",
        " 0.1608254796081663Epoch 128/20 --- 352.9s, TLoss: 0.161, TMeanIoU:  0.5957 , Loss: 0.314, MeanIoU:  0.4166, Best_mIoU:  0.4407\n",
        " 0.1620820166462765Epoch 129/20 --- 352.3s, TLoss: 0.162, TMeanIoU:  0.5914 , Loss: 0.329, MeanIoU:  0.4012, Best_mIoU:  0.4407\n",
        " 0.15947544086815388Epoch 130/20 --- 353.2s, TLoss: 0.159, TMeanIoU:  0.5980 , Loss: 0.331, MeanIoU:  0.3903, Best_mIoU:  0.4407\n",
        " 0.15699873850722545Epoch 131/20 --- 353.1s, TLoss: 0.157, TMeanIoU:  0.5990 , Loss: 0.317, MeanIoU:  0.4094, Best_mIoU:  0.4407\n",
        " 0.15148658299628515Epoch 132/20 --- 352.3s, TLoss: 0.151, TMeanIoU:  0.6124 , Loss: 0.335, MeanIoU:  0.4002, Best_mIoU:  0.4407\n",
        " 0.1532186485713092Epoch 133/20 --- 352.7s, TLoss: 0.153, TMeanIoU:  0.6125 , Loss: 0.332, MeanIoU:  0.4045, Best_mIoU:  0.4407\n",
        " 0.17227134477304964Epoch 134/20 --- 353.2s, TLoss: 0.172, TMeanIoU:  0.5991 , Loss: 0.311, MeanIoU:  0.4133, Best_mIoU:  0.4407\n",
        " 0.15820393818680736Epoch 135/20 --- 352.8s, TLoss: 0.158, TMeanIoU:  0.6044 , Loss: 0.333, MeanIoU:  0.3758, Best_mIoU:  0.4407\n",
        " 0.15665350116303844Epoch 136/20 --- 352.5s, TLoss: 0.157, TMeanIoU:  0.5996 , Loss: 0.325, MeanIoU:  0.4276, Best_mIoU:  0.4407\n",
        " 0.16100256498318027Epoch 137/20 --- 351.6s, TLoss: 0.161, TMeanIoU:  0.5916 , Loss: 0.316, MeanIoU:  0.4263, Best_mIoU:  0.4407\n",
        " 0.15576273007249872Epoch 138/20 --- 352.7s, TLoss: 0.156, TMeanIoU:  0.5977 , Loss: 0.324, MeanIoU:  0.4042, Best_mIoU:  0.4407\n",
        " 0.14437680388668653Epoch 139/20 --- 351.8s, TLoss: 0.144, TMeanIoU:  0.6167 , Loss: 0.303, MeanIoU:  0.4040, Best_mIoU:  0.4407\n",
        " 0.1541120803994716Epoch 140/20 --- 351.4s, TLoss: 0.154, TMeanIoU:  0.6088 , Loss: 0.332, MeanIoU:  0.3935, Best_mIoU:  0.4407\n",
        " 0.1481289522566457Epoch 141/20 --- 351.1s, TLoss: 0.148, TMeanIoU:  0.6157 , Loss: 0.310, MeanIoU:  0.4118, Best_mIoU:  0.4407\n",
        " 0.14079575833255595Epoch 142/20 --- 351.1s, TLoss: 0.141, TMeanIoU:  0.6223 , Loss: 0.333, MeanIoU:  0.3907, Best_mIoU:  0.4407\n",
        " 0.14328466011576632Epoch 143/20 --- 350.9s, TLoss: 0.143, TMeanIoU:  0.6173 , Loss: 0.314, MeanIoU:  0.4234, Best_mIoU:  0.4407\n",
        " 0.15901755135027643Epoch 144/20 --- 350.6s, TLoss: 0.159, TMeanIoU:  0.5985 , Loss: 0.293, MeanIoU:  0.4317, Best_mIoU:  0.4407\n",
        " 0.158654531381925Epoch 145/20 --- 350.8s, TLoss: 0.159, TMeanIoU:  0.5979 , Loss: 0.311, MeanIoU:  0.4286, Best_mIoU:  0.4407\n",
        " 0.15041207740263338Epoch 146/20 --- 350.7s, TLoss: 0.150, TMeanIoU:  0.6041 , Loss: 0.341, MeanIoU:  0.4152, Best_mIoU:  0.4407\n",
        " 0.15785803319682173Epoch 147/20 --- 351.3s, TLoss: 0.158, TMeanIoU:  0.6030 , Loss: 0.324, MeanIoU:  0.4007, Best_mIoU:  0.4407\n",
        " 0.14224886344877435Epoch 148/20 --- 353.0s, TLoss: 0.142, TMeanIoU:  0.6162 , Loss: 0.304, MeanIoU:  0.4222, Best_mIoU:  0.4407\n",
        " 0.15040090454694865\"\"\""
      ]
    },
    {
      "cell_type": "code",
      "execution_count": null,
      "id": "9011fa1d",
      "metadata": {
        "id": "9011fa1d"
      },
      "outputs": [],
      "source": [
        "mean_IoU, pixel_acc, mean_acc = testval(\n",
        "    config, \n",
        "    eval_dataloader, \n",
        "    model, \n",
        "    sv_dir=cfg.OUTPUT_DIR, \n",
        "    sv_pred=True\n",
        ")"
      ]
    },
    {
      "cell_type": "code",
      "execution_count": null,
      "id": "7897b601",
      "metadata": {
        "id": "7897b601"
      },
      "outputs": [],
      "source": [
        "print(\"mnea IoU: {:.3f}, mean Accuracy: {:.3f}, Pixel Accuracy: {:.3f}\".format(mean_IoU, mean_acc, pixel_acc))"
      ]
    },
    {
      "cell_type": "code",
      "execution_count": null,
      "id": "d0e9ebf9",
      "metadata": {
        "id": "d0e9ebf9"
      },
      "outputs": [],
      "source": [
        "for key, val in trainid2label.items():\n",
        "    if key != cfg.DATASET.IGNORE_LABEL and key != -1:\n",
        "        print(\"{} --- IoU: {:.2f}\".format(val.name, IoU_array[key]))"
      ]
    },
    {
      "cell_type": "code",
      "execution_count": null,
      "id": "88bcf193",
      "metadata": {
        "id": "88bcf193"
      },
      "outputs": [],
      "source": [
        "print(trainid2label.items())\n",
        "\n",
        "\n",
        "\n",
        "labels = get_labels()\n",
        "\n",
        "labels = get_labels()\n",
        "id2label =      { label.id      : label for label in labels }\n",
        "trainid2label = { 0 : label for label in labels }"
      ]
    }
  ],
  "metadata": {
    "kernelspec": {
      "display_name": "Python 3 (ipykernel)",
      "language": "python",
      "name": "python3"
    },
    "language_info": {
      "codemirror_mode": {
        "name": "ipython",
        "version": 3
      },
      "file_extension": ".py",
      "mimetype": "text/x-python",
      "name": "python",
      "nbconvert_exporter": "python",
      "pygments_lexer": "ipython3",
      "version": "3.8.10"
    },
    "colab": {
      "provenance": [],
      "machine_shape": "hm"
    },
    "accelerator": "GPU",
    "gpuClass": "premium"
  },
  "nbformat": 4,
  "nbformat_minor": 5
}